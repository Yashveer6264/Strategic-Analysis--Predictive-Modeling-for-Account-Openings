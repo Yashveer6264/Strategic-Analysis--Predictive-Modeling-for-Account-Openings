{
 "cells": [
  {
   "cell_type": "code",
   "execution_count": 69,
   "id": "6e38a04e",
   "metadata": {},
   "outputs": [],
   "source": [
    "import pandas as pd\n",
    "import numpy as np\n",
    "import matplotlib.pyplot as plt \n",
    "import seaborn as sns\n",
    "from sklearn import preprocessing\n"
   ]
  },
  {
   "cell_type": "code",
   "execution_count": 70,
   "id": "a657c1f9",
   "metadata": {},
   "outputs": [],
   "source": [
    "df =  pd.read_csv('train.csv')\n",
    "df2 = pd.read_csv('test.csv')\n",
    "\n",
    "df_copy = pd.read_csv('test.csv')"
   ]
  },
  {
   "cell_type": "code",
   "execution_count": 71,
   "id": "d185698f",
   "metadata": {},
   "outputs": [
    {
     "data": {
      "text/html": [
       "<div>\n",
       "<style scoped>\n",
       "    .dataframe tbody tr th:only-of-type {\n",
       "        vertical-align: middle;\n",
       "    }\n",
       "\n",
       "    .dataframe tbody tr th {\n",
       "        vertical-align: top;\n",
       "    }\n",
       "\n",
       "    .dataframe thead th {\n",
       "        text-align: right;\n",
       "    }\n",
       "</style>\n",
       "<table border=\"1\" class=\"dataframe\">\n",
       "  <thead>\n",
       "    <tr style=\"text-align: right;\">\n",
       "      <th></th>\n",
       "      <th>id</th>\n",
       "      <th>age</th>\n",
       "      <th>job</th>\n",
       "      <th>civil</th>\n",
       "      <th>edu</th>\n",
       "      <th>credit</th>\n",
       "      <th>hloan</th>\n",
       "      <th>ploan</th>\n",
       "      <th>ctype</th>\n",
       "      <th>month</th>\n",
       "      <th>...</th>\n",
       "      <th>ccontact</th>\n",
       "      <th>lcdays</th>\n",
       "      <th>pcontact</th>\n",
       "      <th>presult</th>\n",
       "      <th>employment</th>\n",
       "      <th>cprice</th>\n",
       "      <th>cconf</th>\n",
       "      <th>euri3</th>\n",
       "      <th>employees</th>\n",
       "      <th>outcome</th>\n",
       "    </tr>\n",
       "  </thead>\n",
       "  <tbody>\n",
       "    <tr>\n",
       "      <th>0</th>\n",
       "      <td>127087</td>\n",
       "      <td>32</td>\n",
       "      <td>technician</td>\n",
       "      <td>married</td>\n",
       "      <td>university</td>\n",
       "      <td>no</td>\n",
       "      <td>yes</td>\n",
       "      <td>no</td>\n",
       "      <td>cellular</td>\n",
       "      <td>jul</td>\n",
       "      <td>...</td>\n",
       "      <td>7</td>\n",
       "      <td>999</td>\n",
       "      <td>0</td>\n",
       "      <td>nonexistent</td>\n",
       "      <td>1.4</td>\n",
       "      <td>93.918</td>\n",
       "      <td>-42.7</td>\n",
       "      <td>4.968</td>\n",
       "      <td>5228.1</td>\n",
       "      <td>0</td>\n",
       "    </tr>\n",
       "    <tr>\n",
       "      <th>1</th>\n",
       "      <td>104222</td>\n",
       "      <td>27</td>\n",
       "      <td>services</td>\n",
       "      <td>single</td>\n",
       "      <td>9K</td>\n",
       "      <td>no</td>\n",
       "      <td>no</td>\n",
       "      <td>no</td>\n",
       "      <td>telephone</td>\n",
       "      <td>may</td>\n",
       "      <td>...</td>\n",
       "      <td>2</td>\n",
       "      <td>999</td>\n",
       "      <td>0</td>\n",
       "      <td>nonexistent</td>\n",
       "      <td>1.1</td>\n",
       "      <td>93.994</td>\n",
       "      <td>-36.4</td>\n",
       "      <td>4.857</td>\n",
       "      <td>5191.0</td>\n",
       "      <td>0</td>\n",
       "    </tr>\n",
       "    <tr>\n",
       "      <th>2</th>\n",
       "      <td>126970</td>\n",
       "      <td>57</td>\n",
       "      <td>services</td>\n",
       "      <td>divorced</td>\n",
       "      <td>unknown</td>\n",
       "      <td>no</td>\n",
       "      <td>no</td>\n",
       "      <td>no</td>\n",
       "      <td>cellular</td>\n",
       "      <td>may</td>\n",
       "      <td>...</td>\n",
       "      <td>4</td>\n",
       "      <td>999</td>\n",
       "      <td>0</td>\n",
       "      <td>nonexistent</td>\n",
       "      <td>-1.8</td>\n",
       "      <td>92.893</td>\n",
       "      <td>-46.2</td>\n",
       "      <td>1.313</td>\n",
       "      <td>5099.1</td>\n",
       "      <td>0</td>\n",
       "    </tr>\n",
       "    <tr>\n",
       "      <th>3</th>\n",
       "      <td>123366</td>\n",
       "      <td>42</td>\n",
       "      <td>entrepreneur</td>\n",
       "      <td>married</td>\n",
       "      <td>university</td>\n",
       "      <td>no</td>\n",
       "      <td>no</td>\n",
       "      <td>no</td>\n",
       "      <td>telephone</td>\n",
       "      <td>may</td>\n",
       "      <td>...</td>\n",
       "      <td>1</td>\n",
       "      <td>999</td>\n",
       "      <td>0</td>\n",
       "      <td>nonexistent</td>\n",
       "      <td>1.1</td>\n",
       "      <td>93.994</td>\n",
       "      <td>-36.4</td>\n",
       "      <td>4.858</td>\n",
       "      <td>5191.0</td>\n",
       "      <td>0</td>\n",
       "    </tr>\n",
       "    <tr>\n",
       "      <th>4</th>\n",
       "      <td>100832</td>\n",
       "      <td>49</td>\n",
       "      <td>technician</td>\n",
       "      <td>married</td>\n",
       "      <td>apprenticeship</td>\n",
       "      <td>no</td>\n",
       "      <td>no</td>\n",
       "      <td>yes</td>\n",
       "      <td>telephone</td>\n",
       "      <td>jun</td>\n",
       "      <td>...</td>\n",
       "      <td>1</td>\n",
       "      <td>999</td>\n",
       "      <td>0</td>\n",
       "      <td>nonexistent</td>\n",
       "      <td>1.4</td>\n",
       "      <td>94.465</td>\n",
       "      <td>-41.8</td>\n",
       "      <td>4.958</td>\n",
       "      <td>5228.1</td>\n",
       "      <td>0</td>\n",
       "    </tr>\n",
       "  </tbody>\n",
       "</table>\n",
       "<p>5 rows × 21 columns</p>\n",
       "</div>"
      ],
      "text/plain": [
       "       id  age           job     civil             edu credit hloan ploan  \\\n",
       "0  127087   32    technician   married      university     no   yes    no   \n",
       "1  104222   27      services    single              9K     no    no    no   \n",
       "2  126970   57      services  divorced         unknown     no    no    no   \n",
       "3  123366   42  entrepreneur   married      university     no    no    no   \n",
       "4  100832   49    technician   married  apprenticeship     no    no   yes   \n",
       "\n",
       "       ctype month  ... ccontact  lcdays  pcontact      presult employment  \\\n",
       "0   cellular   jul  ...        7     999         0  nonexistent        1.4   \n",
       "1  telephone   may  ...        2     999         0  nonexistent        1.1   \n",
       "2   cellular   may  ...        4     999         0  nonexistent       -1.8   \n",
       "3  telephone   may  ...        1     999         0  nonexistent        1.1   \n",
       "4  telephone   jun  ...        1     999         0  nonexistent        1.4   \n",
       "\n",
       "   cprice  cconf  euri3  employees  outcome  \n",
       "0  93.918  -42.7  4.968     5228.1        0  \n",
       "1  93.994  -36.4  4.857     5191.0        0  \n",
       "2  92.893  -46.2  1.313     5099.1        0  \n",
       "3  93.994  -36.4  4.858     5191.0        0  \n",
       "4  94.465  -41.8  4.958     5228.1        0  \n",
       "\n",
       "[5 rows x 21 columns]"
      ]
     },
     "execution_count": 71,
     "metadata": {},
     "output_type": "execute_result"
    }
   ],
   "source": [
    "df.head()\n"
   ]
  },
  {
   "cell_type": "code",
   "execution_count": 72,
   "id": "f15903e4",
   "metadata": {},
   "outputs": [
    {
     "data": {
      "text/plain": [
       "(28831, 21)"
      ]
     },
     "execution_count": 72,
     "metadata": {},
     "output_type": "execute_result"
    }
   ],
   "source": [
    "df.shape"
   ]
  },
  {
   "cell_type": "code",
   "execution_count": 73,
   "id": "c8dbd762",
   "metadata": {},
   "outputs": [
    {
     "data": {
      "text/plain": [
       "(12357, 20)"
      ]
     },
     "execution_count": 73,
     "metadata": {},
     "output_type": "execute_result"
    }
   ],
   "source": [
    "df2.shape\n"
   ]
  },
  {
   "cell_type": "code",
   "execution_count": 74,
   "id": "cc2fa19e",
   "metadata": {},
   "outputs": [
    {
     "data": {
      "text/html": [
       "<div>\n",
       "<style scoped>\n",
       "    .dataframe tbody tr th:only-of-type {\n",
       "        vertical-align: middle;\n",
       "    }\n",
       "\n",
       "    .dataframe tbody tr th {\n",
       "        vertical-align: top;\n",
       "    }\n",
       "\n",
       "    .dataframe thead th {\n",
       "        text-align: right;\n",
       "    }\n",
       "</style>\n",
       "<table border=\"1\" class=\"dataframe\">\n",
       "  <thead>\n",
       "    <tr style=\"text-align: right;\">\n",
       "      <th></th>\n",
       "      <th>id</th>\n",
       "      <th>age</th>\n",
       "      <th>ccontact</th>\n",
       "      <th>lcdays</th>\n",
       "      <th>pcontact</th>\n",
       "      <th>employment</th>\n",
       "      <th>cprice</th>\n",
       "      <th>cconf</th>\n",
       "      <th>euri3</th>\n",
       "      <th>employees</th>\n",
       "      <th>outcome</th>\n",
       "    </tr>\n",
       "  </thead>\n",
       "  <tbody>\n",
       "    <tr>\n",
       "      <th>count</th>\n",
       "      <td>28831.000000</td>\n",
       "      <td>28831.000000</td>\n",
       "      <td>28831.000000</td>\n",
       "      <td>28831.000000</td>\n",
       "      <td>28831.000000</td>\n",
       "      <td>28831.000000</td>\n",
       "      <td>28831.000000</td>\n",
       "      <td>28831.000000</td>\n",
       "      <td>28831.000000</td>\n",
       "      <td>28831.000000</td>\n",
       "      <td>28831.000000</td>\n",
       "    </tr>\n",
       "    <tr>\n",
       "      <th>mean</th>\n",
       "      <td>120599.451042</td>\n",
       "      <td>40.080296</td>\n",
       "      <td>2.574867</td>\n",
       "      <td>962.323124</td>\n",
       "      <td>0.170823</td>\n",
       "      <td>0.081249</td>\n",
       "      <td>93.574302</td>\n",
       "      <td>-40.496743</td>\n",
       "      <td>3.622575</td>\n",
       "      <td>5167.135174</td>\n",
       "      <td>0.111304</td>\n",
       "    </tr>\n",
       "    <tr>\n",
       "      <th>std</th>\n",
       "      <td>11872.139828</td>\n",
       "      <td>10.426239</td>\n",
       "      <td>2.780901</td>\n",
       "      <td>187.277267</td>\n",
       "      <td>0.486648</td>\n",
       "      <td>1.572366</td>\n",
       "      <td>0.579193</td>\n",
       "      <td>4.642811</td>\n",
       "      <td>1.733652</td>\n",
       "      <td>72.072751</td>\n",
       "      <td>0.314513</td>\n",
       "    </tr>\n",
       "    <tr>\n",
       "      <th>min</th>\n",
       "      <td>100001.000000</td>\n",
       "      <td>17.000000</td>\n",
       "      <td>1.000000</td>\n",
       "      <td>0.000000</td>\n",
       "      <td>0.000000</td>\n",
       "      <td>-3.400000</td>\n",
       "      <td>92.201000</td>\n",
       "      <td>-50.800000</td>\n",
       "      <td>0.634000</td>\n",
       "      <td>4963.600000</td>\n",
       "      <td>0.000000</td>\n",
       "    </tr>\n",
       "    <tr>\n",
       "      <th>25%</th>\n",
       "      <td>110316.500000</td>\n",
       "      <td>32.000000</td>\n",
       "      <td>1.000000</td>\n",
       "      <td>999.000000</td>\n",
       "      <td>0.000000</td>\n",
       "      <td>-1.800000</td>\n",
       "      <td>93.075000</td>\n",
       "      <td>-42.700000</td>\n",
       "      <td>1.344000</td>\n",
       "      <td>5099.100000</td>\n",
       "      <td>0.000000</td>\n",
       "    </tr>\n",
       "    <tr>\n",
       "      <th>50%</th>\n",
       "      <td>120602.000000</td>\n",
       "      <td>38.000000</td>\n",
       "      <td>2.000000</td>\n",
       "      <td>999.000000</td>\n",
       "      <td>0.000000</td>\n",
       "      <td>1.100000</td>\n",
       "      <td>93.749000</td>\n",
       "      <td>-41.800000</td>\n",
       "      <td>4.857000</td>\n",
       "      <td>5191.000000</td>\n",
       "      <td>0.000000</td>\n",
       "    </tr>\n",
       "    <tr>\n",
       "      <th>75%</th>\n",
       "      <td>130905.500000</td>\n",
       "      <td>47.000000</td>\n",
       "      <td>3.000000</td>\n",
       "      <td>999.000000</td>\n",
       "      <td>0.000000</td>\n",
       "      <td>1.400000</td>\n",
       "      <td>93.994000</td>\n",
       "      <td>-36.400000</td>\n",
       "      <td>4.961000</td>\n",
       "      <td>5228.100000</td>\n",
       "      <td>0.000000</td>\n",
       "    </tr>\n",
       "    <tr>\n",
       "      <th>max</th>\n",
       "      <td>141188.000000</td>\n",
       "      <td>98.000000</td>\n",
       "      <td>56.000000</td>\n",
       "      <td>999.000000</td>\n",
       "      <td>7.000000</td>\n",
       "      <td>1.400000</td>\n",
       "      <td>94.767000</td>\n",
       "      <td>-26.900000</td>\n",
       "      <td>5.045000</td>\n",
       "      <td>5228.100000</td>\n",
       "      <td>1.000000</td>\n",
       "    </tr>\n",
       "  </tbody>\n",
       "</table>\n",
       "</div>"
      ],
      "text/plain": [
       "                  id           age      ccontact        lcdays      pcontact  \\\n",
       "count   28831.000000  28831.000000  28831.000000  28831.000000  28831.000000   \n",
       "mean   120599.451042     40.080296      2.574867    962.323124      0.170823   \n",
       "std     11872.139828     10.426239      2.780901    187.277267      0.486648   \n",
       "min    100001.000000     17.000000      1.000000      0.000000      0.000000   \n",
       "25%    110316.500000     32.000000      1.000000    999.000000      0.000000   \n",
       "50%    120602.000000     38.000000      2.000000    999.000000      0.000000   \n",
       "75%    130905.500000     47.000000      3.000000    999.000000      0.000000   \n",
       "max    141188.000000     98.000000     56.000000    999.000000      7.000000   \n",
       "\n",
       "         employment        cprice         cconf         euri3     employees  \\\n",
       "count  28831.000000  28831.000000  28831.000000  28831.000000  28831.000000   \n",
       "mean       0.081249     93.574302    -40.496743      3.622575   5167.135174   \n",
       "std        1.572366      0.579193      4.642811      1.733652     72.072751   \n",
       "min       -3.400000     92.201000    -50.800000      0.634000   4963.600000   \n",
       "25%       -1.800000     93.075000    -42.700000      1.344000   5099.100000   \n",
       "50%        1.100000     93.749000    -41.800000      4.857000   5191.000000   \n",
       "75%        1.400000     93.994000    -36.400000      4.961000   5228.100000   \n",
       "max        1.400000     94.767000    -26.900000      5.045000   5228.100000   \n",
       "\n",
       "            outcome  \n",
       "count  28831.000000  \n",
       "mean       0.111304  \n",
       "std        0.314513  \n",
       "min        0.000000  \n",
       "25%        0.000000  \n",
       "50%        0.000000  \n",
       "75%        0.000000  \n",
       "max        1.000000  "
      ]
     },
     "execution_count": 74,
     "metadata": {},
     "output_type": "execute_result"
    }
   ],
   "source": [
    "df.describe()"
   ]
  },
  {
   "cell_type": "code",
   "execution_count": 75,
   "id": "438b783c",
   "metadata": {},
   "outputs": [
    {
     "name": "stdout",
     "output_type": "stream",
     "text": [
      "<class 'pandas.core.frame.DataFrame'>\n",
      "RangeIndex: 28831 entries, 0 to 28830\n",
      "Data columns (total 21 columns):\n",
      " #   Column      Non-Null Count  Dtype  \n",
      "---  ------      --------------  -----  \n",
      " 0   id          28831 non-null  int64  \n",
      " 1   age         28831 non-null  int64  \n",
      " 2   job         28831 non-null  object \n",
      " 3   civil       28831 non-null  object \n",
      " 4   edu         28831 non-null  object \n",
      " 5   credit      28831 non-null  object \n",
      " 6   hloan       28831 non-null  object \n",
      " 7   ploan       28831 non-null  object \n",
      " 8   ctype       28831 non-null  object \n",
      " 9   month       28831 non-null  object \n",
      " 10  day         28831 non-null  object \n",
      " 11  ccontact    28831 non-null  int64  \n",
      " 12  lcdays      28831 non-null  int64  \n",
      " 13  pcontact    28831 non-null  int64  \n",
      " 14  presult     28831 non-null  object \n",
      " 15  employment  28831 non-null  float64\n",
      " 16  cprice      28831 non-null  float64\n",
      " 17  cconf       28831 non-null  float64\n",
      " 18  euri3       28831 non-null  float64\n",
      " 19  employees   28831 non-null  float64\n",
      " 20  outcome     28831 non-null  int64  \n",
      "dtypes: float64(5), int64(6), object(10)\n",
      "memory usage: 4.6+ MB\n"
     ]
    }
   ],
   "source": [
    "df.info()"
   ]
  },
  {
   "cell_type": "code",
   "execution_count": 76,
   "id": "3b6ed340",
   "metadata": {},
   "outputs": [
    {
     "data": {
      "image/png": "[encoded data removed]",
      "text/plain": [
       "<Figure size 1500x500 with 2 Axes>"
      ]
     },
     "metadata": {},
     "output_type": "display_data"
    }
   ],
   "source": [
    "plt.figure(figsize=(15,5))\n",
    "sns.heatmap(df.corr(),annot=True,color='Blue')\n",
    "plt.show()"
   ]
  },
  {
   "cell_type": "code",
   "execution_count": null,
   "id": "1da83737",
   "metadata": {},
   "outputs": [],
   "source": []
  },
  {
   "cell_type": "code",
   "execution_count": 77,
   "id": "099e72a6",
   "metadata": {},
   "outputs": [
    {
     "data": {
      "text/plain": [
       "admin.          7255\n",
       "artisan         6540\n",
       "technician      4668\n",
       "services        2779\n",
       "management      2033\n",
       "retired         1218\n",
       "selfemployed    1014\n",
       "entrepreneur    1010\n",
       "housemaid        759\n",
       "unemployed       730\n",
       "student          597\n",
       "unknown          228\n",
       "Name: job, dtype: int64"
      ]
     },
     "execution_count": 77,
     "metadata": {},
     "output_type": "execute_result"
    }
   ],
   "source": [
    "df.job.value_counts()"
   ]
  },
  {
   "cell_type": "code",
   "execution_count": 78,
   "id": "654e0493",
   "metadata": {},
   "outputs": [
    {
     "data": {
      "text/plain": [
       "married     17512\n",
       "single       8065\n",
       "divorced     3198\n",
       "unknown        56\n",
       "Name: civil, dtype: int64"
      ]
     },
     "execution_count": 78,
     "metadata": {},
     "output_type": "execute_result"
    }
   ],
   "source": [
    "df.civil.value_counts()"
   ]
  },
  {
   "cell_type": "code",
   "execution_count": 79,
   "id": "48669db2",
   "metadata": {},
   "outputs": [
    {
     "data": {
      "text/plain": [
       "array(['admin.', 'artisan', 'entrepreneur', 'housemaid', 'management',\n",
       "       'retired', 'selfemployed', 'services', 'student', 'technician',\n",
       "       'unemployed', 'unknown'], dtype=object)"
      ]
     },
     "execution_count": 79,
     "metadata": {},
     "output_type": "execute_result"
    }
   ],
   "source": [
    "np.unique(df.job)"
   ]
  },
  {
   "cell_type": "code",
   "execution_count": 80,
   "id": "bdfe55d2",
   "metadata": {},
   "outputs": [
    {
     "data": {
      "text/plain": [
       "Text(0, 0.5, 'Count')"
      ]
     },
     "execution_count": 80,
     "metadata": {},
     "output_type": "execute_result"
    },
    {
     "data": {
      "image/png": "[encoded data removed]",
      "text/plain": [
       "<Figure size 640x480 with 1 Axes>"
      ]
     },
     "metadata": {},
     "output_type": "display_data"
    }
   ],
   "source": [
    "%matplotlib inline\n",
    "pd.crosstab(df.job,df.outcome).plot(kind='bar')\n",
    "plt.title('Distribution for Job Title')\n",
    "plt.xlabel('Job')\n",
    "plt.ylabel('Count')"
   ]
  },
  {
   "cell_type": "code",
   "execution_count": 81,
   "id": "3879db40",
   "metadata": {},
   "outputs": [
    {
     "data": {
      "text/plain": [
       "array(['divorced', 'married', 'single', 'unknown'], dtype=object)"
      ]
     },
     "execution_count": 81,
     "metadata": {},
     "output_type": "execute_result"
    }
   ],
   "source": [
    "np.unique(df.civil)"
   ]
  },
  {
   "cell_type": "code",
   "execution_count": 82,
   "id": "883d6f4b",
   "metadata": {},
   "outputs": [
    {
     "data": {
      "text/plain": [
       "Text(0, 0.5, 'Customers')"
      ]
     },
     "execution_count": 82,
     "metadata": {},
     "output_type": "execute_result"
    },
    {
     "data": {
      "image/png": "[encoded data removed]",
      "text/plain": [
       "<Figure size 640x480 with 1 Axes>"
      ]
     },
     "metadata": {},
     "output_type": "display_data"
    }
   ],
   "source": [
    "pd.crosstab(df.civil,df.outcome).plot(kind='bar')\n",
    "plt.title('Stacked Bar Chart of Marital Status')\n",
    "plt.xlabel('Marital Status')\n",
    "plt.ylabel('Customers')"
   ]
  },
  {
   "cell_type": "code",
   "execution_count": 83,
   "id": "b2ece074",
   "metadata": {},
   "outputs": [
    {
     "data": {
      "text/plain": [
       "admin.          7255\n",
       "artisan         6540\n",
       "technician      4668\n",
       "services        2779\n",
       "management      2033\n",
       "retired         1218\n",
       "selfemployed    1014\n",
       "entrepreneur    1010\n",
       "housemaid        759\n",
       "unemployed       730\n",
       "student          597\n",
       "unknown          228\n",
       "Name: job, dtype: int64"
      ]
     },
     "execution_count": 83,
     "metadata": {},
     "output_type": "execute_result"
    }
   ],
   "source": [
    "df['job'].value_counts()"
   ]
  },
  {
   "cell_type": "code",
   "execution_count": 84,
   "id": "8c6794b6",
   "metadata": {},
   "outputs": [
    {
     "data": {
      "text/plain": [
       "(28831, 21)"
      ]
     },
     "execution_count": 84,
     "metadata": {},
     "output_type": "execute_result"
    }
   ],
   "source": [
    "df.shape"
   ]
  },
  {
   "cell_type": "code",
   "execution_count": 85,
   "id": "5c08c23b",
   "metadata": {},
   "outputs": [
    {
     "data": {
      "image/png": "[encoded data removed]",
      "text/plain": [
       "<Figure size 640x480 with 1 Axes>"
      ]
     },
     "metadata": {},
     "output_type": "display_data"
    }
   ],
   "source": [
    "import seaborn as sns\n",
    "sns.countplot(x='outcome',data=df, palette='hls')\n",
    "plt.show()"
   ]
  },
  {
   "cell_type": "code",
   "execution_count": 86,
   "id": "9ab1df58",
   "metadata": {},
   "outputs": [
    {
     "data": {
      "text/plain": [
       "(12357, 20)"
      ]
     },
     "execution_count": 86,
     "metadata": {},
     "output_type": "execute_result"
    }
   ],
   "source": [
    "df2.shape"
   ]
  },
  {
   "cell_type": "code",
   "execution_count": 87,
   "id": "e8474132",
   "metadata": {},
   "outputs": [
    {
     "data": {
      "text/plain": [
       "admin.          7255\n",
       "artisan         6540\n",
       "technician      4668\n",
       "services        2779\n",
       "management      2033\n",
       "retired         1218\n",
       "selfemployed    1014\n",
       "entrepreneur    1010\n",
       "housemaid        759\n",
       "unemployed       730\n",
       "student          597\n",
       "unknown          228\n",
       "Name: job, dtype: int64"
      ]
     },
     "execution_count": 87,
     "metadata": {},
     "output_type": "execute_result"
    }
   ],
   "source": [
    "df['job'].value_counts()"
   ]
  },
  {
   "cell_type": "code",
   "execution_count": 88,
   "id": "30181146",
   "metadata": {},
   "outputs": [
    {
     "data": {
      "text/plain": [
       "married     17512\n",
       "single       8065\n",
       "divorced     3198\n",
       "unknown        56\n",
       "Name: civil, dtype: int64"
      ]
     },
     "execution_count": 88,
     "metadata": {},
     "output_type": "execute_result"
    }
   ],
   "source": [
    "df['civil'].value_counts()"
   ]
  },
  {
   "cell_type": "code",
   "execution_count": 89,
   "id": "24cec145",
   "metadata": {},
   "outputs": [
    {
     "data": {
      "text/plain": [
       "(28831, 21)"
      ]
     },
     "execution_count": 89,
     "metadata": {},
     "output_type": "execute_result"
    }
   ],
   "source": [
    "df.shape"
   ]
  },
  {
   "cell_type": "code",
   "execution_count": 90,
   "id": "a5ae2be7",
   "metadata": {},
   "outputs": [
    {
     "data": {
      "text/plain": [
       "(12357, 20)"
      ]
     },
     "execution_count": 90,
     "metadata": {},
     "output_type": "execute_result"
    }
   ],
   "source": [
    "df2.shape"
   ]
  },
  {
   "cell_type": "code",
   "execution_count": 91,
   "id": "212692fd",
   "metadata": {},
   "outputs": [
    {
     "data": {
      "text/plain": [
       "no         22767\n",
       "unknown     6061\n",
       "yes            3\n",
       "Name: credit, dtype: int64"
      ]
     },
     "execution_count": 91,
     "metadata": {},
     "output_type": "execute_result"
    }
   ],
   "source": [
    "df['credit'].value_counts() # drop the credit column in test data too."
   ]
  },
  {
   "cell_type": "code",
   "execution_count": 92,
   "id": "ea0e7ae4",
   "metadata": {},
   "outputs": [],
   "source": [
    "df = df.drop('credit',axis=1)"
   ]
  },
  {
   "cell_type": "code",
   "execution_count": 93,
   "id": "2780a330",
   "metadata": {},
   "outputs": [],
   "source": [
    "df2 = df2.drop('credit',axis=1) # cleaining on test data"
   ]
  },
  {
   "cell_type": "code",
   "execution_count": 94,
   "id": "b03818a7",
   "metadata": {},
   "outputs": [],
   "source": [
    "df = df.drop('id',axis=1)"
   ]
  },
  {
   "cell_type": "code",
   "execution_count": 95,
   "id": "fbbf03ed",
   "metadata": {},
   "outputs": [],
   "source": [
    "df2 = df2.drop('id',axis=1) # cleaining on test data"
   ]
  },
  {
   "cell_type": "code",
   "execution_count": 96,
   "id": "e6b33444",
   "metadata": {},
   "outputs": [
    {
     "data": {
      "text/plain": [
       "(28831, 19)"
      ]
     },
     "execution_count": 96,
     "metadata": {},
     "output_type": "execute_result"
    }
   ],
   "source": [
    "df.shape"
   ]
  },
  {
   "cell_type": "code",
   "execution_count": 97,
   "id": "e793257b",
   "metadata": {},
   "outputs": [
    {
     "data": {
      "text/plain": [
       "(12357, 18)"
      ]
     },
     "execution_count": 97,
     "metadata": {},
     "output_type": "execute_result"
    }
   ],
   "source": [
    "df2.shape"
   ]
  },
  {
   "cell_type": "code",
   "execution_count": 98,
   "id": "365ea9d2",
   "metadata": {},
   "outputs": [
    {
     "data": {
      "text/plain": [
       "university        8439\n",
       "12K               6679\n",
       "9K                4250\n",
       "apprenticeship    3656\n",
       "4K                2982\n",
       "6K                1602\n",
       "unknown           1208\n",
       "illiterate          15\n",
       "Name: edu, dtype: int64"
      ]
     },
     "execution_count": 98,
     "metadata": {},
     "output_type": "execute_result"
    }
   ],
   "source": [
    "df['edu'].value_counts()"
   ]
  },
  {
   "cell_type": "code",
   "execution_count": 99,
   "id": "4dd944ef",
   "metadata": {},
   "outputs": [
    {
     "data": {
      "text/plain": [
       "(28831, 19)"
      ]
     },
     "execution_count": 99,
     "metadata": {},
     "output_type": "execute_result"
    }
   ],
   "source": [
    "df.shape"
   ]
  },
  {
   "cell_type": "code",
   "execution_count": 100,
   "id": "70edcfb9",
   "metadata": {},
   "outputs": [
    {
     "data": {
      "text/plain": [
       "(12357, 18)"
      ]
     },
     "execution_count": 100,
     "metadata": {},
     "output_type": "execute_result"
    }
   ],
   "source": [
    "df2.shape"
   ]
  },
  {
   "cell_type": "code",
   "execution_count": 101,
   "id": "27e2cae3",
   "metadata": {},
   "outputs": [],
   "source": [
    "#Create groups for educations\n",
    "df['edu'] = np.where(df['edu'] =='4K', 'MidSchool', df['edu'])\n",
    "df['edu'] = np.where(df['edu'] =='6K', 'MidSchool', df['edu'])\n",
    "df['edu'] = np.where(df['edu'] =='9K', 'HighSchool', df['edu'])\n",
    "df['edu'] = np.where(df['edu'] =='12K', 'HighSchool', df['edu']) # transform in test data too"
   ]
  },
  {
   "cell_type": "code",
   "execution_count": 102,
   "id": "1b2c1f59",
   "metadata": {},
   "outputs": [],
   "source": [
    "#Create groups for educations\n",
    "df2['edu'] = np.where(df2['edu'] =='4K', 'MidSchool', df2['edu'])\n",
    "df2['edu'] = np.where(df2['edu'] =='6K', 'MidSchool', df2['edu'])\n",
    "df2['edu'] = np.where(df2['edu'] =='9K', 'HighSchool', df2['edu'])\n",
    "df2['edu'] = np.where(df2['edu'] =='12K', 'HighSchool', df2['edu']) # transform in test data too"
   ]
  },
  {
   "cell_type": "code",
   "execution_count": 103,
   "id": "56b8dd73",
   "metadata": {},
   "outputs": [
    {
     "data": {
      "image/png": "[encoded data removed]",
      "text/plain": [
       "<Figure size 640x480 with 1 Axes>"
      ]
     },
     "metadata": {},
     "output_type": "display_data"
    }
   ],
   "source": [
    "import matplotlib.pyplot as plt\n",
    "\n",
    "pd.crosstab(df.edu,df.outcome).plot(kind='bar')\n",
    "plt.title('Outcome Frequency for different education')\n",
    "plt.xlabel('Education')\n",
    "plt.ylabel('Count of outcome')\n",
    "plt.show()"
   ]
  },
  {
   "cell_type": "code",
   "execution_count": 104,
   "id": "59fae4b5",
   "metadata": {},
   "outputs": [
    {
     "data": {
      "text/html": [
       "<div>\n",
       "<style scoped>\n",
       "    .dataframe tbody tr th:only-of-type {\n",
       "        vertical-align: middle;\n",
       "    }\n",
       "\n",
       "    .dataframe tbody tr th {\n",
       "        vertical-align: top;\n",
       "    }\n",
       "\n",
       "    .dataframe thead th {\n",
       "        text-align: right;\n",
       "    }\n",
       "</style>\n",
       "<table border=\"1\" class=\"dataframe\">\n",
       "  <thead>\n",
       "    <tr style=\"text-align: right;\">\n",
       "      <th></th>\n",
       "      <th>age</th>\n",
       "      <th>job</th>\n",
       "      <th>civil</th>\n",
       "      <th>edu</th>\n",
       "      <th>hloan</th>\n",
       "      <th>ploan</th>\n",
       "      <th>ctype</th>\n",
       "      <th>month</th>\n",
       "      <th>day</th>\n",
       "      <th>ccontact</th>\n",
       "      <th>lcdays</th>\n",
       "      <th>pcontact</th>\n",
       "      <th>presult</th>\n",
       "      <th>employment</th>\n",
       "      <th>cprice</th>\n",
       "      <th>cconf</th>\n",
       "      <th>euri3</th>\n",
       "      <th>employees</th>\n",
       "    </tr>\n",
       "  </thead>\n",
       "  <tbody>\n",
       "    <tr>\n",
       "      <th>0</th>\n",
       "      <td>45</td>\n",
       "      <td>services</td>\n",
       "      <td>married</td>\n",
       "      <td>HighSchool</td>\n",
       "      <td>no</td>\n",
       "      <td>no</td>\n",
       "      <td>telephone</td>\n",
       "      <td>may</td>\n",
       "      <td>mon</td>\n",
       "      <td>1</td>\n",
       "      <td>999</td>\n",
       "      <td>0</td>\n",
       "      <td>nonexistent</td>\n",
       "      <td>1.1</td>\n",
       "      <td>93.994</td>\n",
       "      <td>-36.4</td>\n",
       "      <td>4.857</td>\n",
       "      <td>5191.0</td>\n",
       "    </tr>\n",
       "    <tr>\n",
       "      <th>1</th>\n",
       "      <td>41</td>\n",
       "      <td>artisan</td>\n",
       "      <td>married</td>\n",
       "      <td>unknown</td>\n",
       "      <td>no</td>\n",
       "      <td>no</td>\n",
       "      <td>telephone</td>\n",
       "      <td>may</td>\n",
       "      <td>mon</td>\n",
       "      <td>1</td>\n",
       "      <td>999</td>\n",
       "      <td>0</td>\n",
       "      <td>nonexistent</td>\n",
       "      <td>1.1</td>\n",
       "      <td>93.994</td>\n",
       "      <td>-36.4</td>\n",
       "      <td>4.857</td>\n",
       "      <td>5191.0</td>\n",
       "    </tr>\n",
       "    <tr>\n",
       "      <th>2</th>\n",
       "      <td>41</td>\n",
       "      <td>artisan</td>\n",
       "      <td>married</td>\n",
       "      <td>unknown</td>\n",
       "      <td>no</td>\n",
       "      <td>no</td>\n",
       "      <td>telephone</td>\n",
       "      <td>may</td>\n",
       "      <td>mon</td>\n",
       "      <td>1</td>\n",
       "      <td>999</td>\n",
       "      <td>0</td>\n",
       "      <td>nonexistent</td>\n",
       "      <td>1.1</td>\n",
       "      <td>93.994</td>\n",
       "      <td>-36.4</td>\n",
       "      <td>4.857</td>\n",
       "      <td>5191.0</td>\n",
       "    </tr>\n",
       "    <tr>\n",
       "      <th>3</th>\n",
       "      <td>54</td>\n",
       "      <td>retired</td>\n",
       "      <td>married</td>\n",
       "      <td>HighSchool</td>\n",
       "      <td>yes</td>\n",
       "      <td>yes</td>\n",
       "      <td>telephone</td>\n",
       "      <td>may</td>\n",
       "      <td>mon</td>\n",
       "      <td>1</td>\n",
       "      <td>999</td>\n",
       "      <td>0</td>\n",
       "      <td>nonexistent</td>\n",
       "      <td>1.1</td>\n",
       "      <td>93.994</td>\n",
       "      <td>-36.4</td>\n",
       "      <td>4.857</td>\n",
       "      <td>5191.0</td>\n",
       "    </tr>\n",
       "    <tr>\n",
       "      <th>4</th>\n",
       "      <td>30</td>\n",
       "      <td>unemployed</td>\n",
       "      <td>married</td>\n",
       "      <td>HighSchool</td>\n",
       "      <td>no</td>\n",
       "      <td>no</td>\n",
       "      <td>telephone</td>\n",
       "      <td>may</td>\n",
       "      <td>mon</td>\n",
       "      <td>1</td>\n",
       "      <td>999</td>\n",
       "      <td>0</td>\n",
       "      <td>nonexistent</td>\n",
       "      <td>1.1</td>\n",
       "      <td>93.994</td>\n",
       "      <td>-36.4</td>\n",
       "      <td>4.857</td>\n",
       "      <td>5191.0</td>\n",
       "    </tr>\n",
       "  </tbody>\n",
       "</table>\n",
       "</div>"
      ],
      "text/plain": [
       "   age         job    civil         edu hloan ploan      ctype month  day  \\\n",
       "0   45    services  married  HighSchool    no    no  telephone   may  mon   \n",
       "1   41     artisan  married     unknown    no    no  telephone   may  mon   \n",
       "2   41     artisan  married     unknown    no    no  telephone   may  mon   \n",
       "3   54     retired  married  HighSchool   yes   yes  telephone   may  mon   \n",
       "4   30  unemployed  married  HighSchool    no    no  telephone   may  mon   \n",
       "\n",
       "   ccontact  lcdays  pcontact      presult  employment  cprice  cconf  euri3  \\\n",
       "0         1     999         0  nonexistent         1.1  93.994  -36.4  4.857   \n",
       "1         1     999         0  nonexistent         1.1  93.994  -36.4  4.857   \n",
       "2         1     999         0  nonexistent         1.1  93.994  -36.4  4.857   \n",
       "3         1     999         0  nonexistent         1.1  93.994  -36.4  4.857   \n",
       "4         1     999         0  nonexistent         1.1  93.994  -36.4  4.857   \n",
       "\n",
       "   employees  \n",
       "0     5191.0  \n",
       "1     5191.0  \n",
       "2     5191.0  \n",
       "3     5191.0  \n",
       "4     5191.0  "
      ]
     },
     "execution_count": 104,
     "metadata": {},
     "output_type": "execute_result"
    }
   ],
   "source": [
    "df2.head()"
   ]
  },
  {
   "cell_type": "code",
   "execution_count": 105,
   "id": "788e0a46",
   "metadata": {},
   "outputs": [
    {
     "data": {
      "text/plain": [
       "HighSchool        10929\n",
       "university         8439\n",
       "MidSchool          4584\n",
       "apprenticeship     3656\n",
       "unknown            1208\n",
       "illiterate           15\n",
       "Name: edu, dtype: int64"
      ]
     },
     "execution_count": 105,
     "metadata": {},
     "output_type": "execute_result"
    }
   ],
   "source": [
    "df['edu'].value_counts()"
   ]
  },
  {
   "cell_type": "code",
   "execution_count": 106,
   "id": "f2523b84",
   "metadata": {},
   "outputs": [
    {
     "data": {
      "text/plain": [
       "(28831, 19)"
      ]
     },
     "execution_count": 106,
     "metadata": {},
     "output_type": "execute_result"
    }
   ],
   "source": [
    "df.shape"
   ]
  },
  {
   "cell_type": "code",
   "execution_count": 107,
   "id": "7666b1b6",
   "metadata": {},
   "outputs": [
    {
     "data": {
      "text/plain": [
       "(12357, 18)"
      ]
     },
     "execution_count": 107,
     "metadata": {},
     "output_type": "execute_result"
    }
   ],
   "source": [
    "df2.shape"
   ]
  },
  {
   "cell_type": "code",
   "execution_count": 108,
   "id": "b77895a7",
   "metadata": {},
   "outputs": [
    {
     "data": {
      "text/plain": [
       "yes        15080\n",
       "no         13088\n",
       "unknown      663\n",
       "Name: hloan, dtype: int64"
      ]
     },
     "execution_count": 108,
     "metadata": {},
     "output_type": "execute_result"
    }
   ],
   "source": [
    "df['hloan'].value_counts()"
   ]
  },
  {
   "cell_type": "code",
   "execution_count": 109,
   "id": "aa4a5f26",
   "metadata": {},
   "outputs": [
    {
     "data": {
      "text/plain": [
       "no         23795\n",
       "yes         4373\n",
       "unknown      663\n",
       "Name: ploan, dtype: int64"
      ]
     },
     "execution_count": 109,
     "metadata": {},
     "output_type": "execute_result"
    }
   ],
   "source": [
    "df['ploan'].value_counts()"
   ]
  },
  {
   "cell_type": "code",
   "execution_count": 110,
   "id": "9d069663",
   "metadata": {},
   "outputs": [
    {
     "data": {
      "text/plain": [
       "cellular     18283\n",
       "telephone    10548\n",
       "Name: ctype, dtype: int64"
      ]
     },
     "execution_count": 110,
     "metadata": {},
     "output_type": "execute_result"
    }
   ],
   "source": [
    "df['ctype'].value_counts()"
   ]
  },
  {
   "cell_type": "code",
   "execution_count": 111,
   "id": "233d1557",
   "metadata": {},
   "outputs": [
    {
     "data": {
      "text/plain": [
       "may    9619\n",
       "jul    5024\n",
       "aug    4318\n",
       "jun    3700\n",
       "nov    2866\n",
       "apr    1876\n",
       "oct     505\n",
       "sep     405\n",
       "mar     392\n",
       "dec     126\n",
       "Name: month, dtype: int64"
      ]
     },
     "execution_count": 111,
     "metadata": {},
     "output_type": "execute_result"
    }
   ],
   "source": [
    "df['month'].value_counts()"
   ]
  },
  {
   "cell_type": "code",
   "execution_count": 112,
   "id": "c1ae0ebf",
   "metadata": {},
   "outputs": [
    {
     "data": {
      "image/png": "[encoded data removed]",
      "text/plain": [
       "<Figure size 640x480 with 1 Axes>"
      ]
     },
     "metadata": {},
     "output_type": "display_data"
    }
   ],
   "source": [
    "import matplotlib.pyplot as plt\n",
    "\n",
    "pd.crosstab(df.month,df.outcome).plot(kind='bar')\n",
    "plt.title('Outcome Frequency for Month')\n",
    "plt.xlabel('Month')\n",
    "plt.ylabel('Count of outcome')\n",
    "plt.show()"
   ]
  },
  {
   "cell_type": "code",
   "execution_count": 113,
   "id": "341918e4",
   "metadata": {},
   "outputs": [
    {
     "data": {
      "image/png": "[encoded data removed]",
      "text/plain": [
       "<Figure size 640x480 with 1 Axes>"
      ]
     },
     "metadata": {},
     "output_type": "display_data"
    }
   ],
   "source": [
    "import matplotlib.pyplot as plt\n",
    "\n",
    "pd.crosstab(df.day,df.outcome).plot(kind='bar')\n",
    "plt.title('Outcome Frequency for Day')\n",
    "plt.xlabel('Day')\n",
    "plt.ylabel('Count of Outcome')\n",
    "plt.show()"
   ]
  },
  {
   "cell_type": "code",
   "execution_count": 114,
   "id": "45b2bd4a",
   "metadata": {},
   "outputs": [],
   "source": [
    "#Month and day have low impact, hence drop them\n",
    "df = df.drop(['month','day'],axis=1)"
   ]
  },
  {
   "cell_type": "code",
   "execution_count": 115,
   "id": "77cfa6c6",
   "metadata": {},
   "outputs": [
    {
     "data": {
      "text/plain": [
       "(28831, 17)"
      ]
     },
     "execution_count": 115,
     "metadata": {},
     "output_type": "execute_result"
    }
   ],
   "source": [
    "df.shape"
   ]
  },
  {
   "cell_type": "code",
   "execution_count": 116,
   "id": "825ddff2",
   "metadata": {},
   "outputs": [],
   "source": [
    "df2 = df2.drop(['month','day'],axis=1)"
   ]
  },
  {
   "cell_type": "code",
   "execution_count": 117,
   "id": "b4e4d60f",
   "metadata": {},
   "outputs": [
    {
     "data": {
      "text/plain": [
       "(12357, 16)"
      ]
     },
     "execution_count": 117,
     "metadata": {},
     "output_type": "execute_result"
    }
   ],
   "source": [
    "df2.shape"
   ]
  },
  {
   "cell_type": "code",
   "execution_count": 118,
   "id": "ba4aef82",
   "metadata": {},
   "outputs": [
    {
     "data": {
      "image/png": "[encoded data removed]",
      "text/plain": [
       "<Figure size 640x480 with 1 Axes>"
      ]
     },
     "metadata": {},
     "output_type": "display_data"
    }
   ],
   "source": [
    "pd.crosstab(df.ccontact,df.outcome).plot(kind='bar')\n",
    "plt.title('Outcome Frequency for contact')\n",
    "plt.xlabel('contact')\n",
    "plt.ylabel('Count of Outcome')\n",
    "plt.show()"
   ]
  },
  {
   "cell_type": "code",
   "execution_count": 119,
   "id": "d30081dc",
   "metadata": {},
   "outputs": [
    {
     "data": {
      "text/plain": [
       "Text(0, 0.5, 'Frequency')"
      ]
     },
     "execution_count": 119,
     "metadata": {},
     "output_type": "execute_result"
    },
    {
     "data": {
      "image/png": "[encoded data removed]",
      "text/plain": [
       "<Figure size 640x480 with 1 Axes>"
      ]
     },
     "metadata": {},
     "output_type": "display_data"
    }
   ],
   "source": [
    "df.age.hist()\n",
    "plt.title('Histogram of Age')\n",
    "plt.xlabel('Age')\n",
    "plt.ylabel('Frequency')"
   ]
  },
  {
   "cell_type": "code",
   "execution_count": 120,
   "id": "860db379",
   "metadata": {},
   "outputs": [
    {
     "data": {
      "text/plain": [
       "(28831, 17)"
      ]
     },
     "execution_count": 120,
     "metadata": {},
     "output_type": "execute_result"
    }
   ],
   "source": [
    "df.shape"
   ]
  },
  {
   "cell_type": "code",
   "execution_count": 121,
   "id": "38a919f7",
   "metadata": {},
   "outputs": [
    {
     "data": {
      "text/plain": [
       "(12357, 16)"
      ]
     },
     "execution_count": 121,
     "metadata": {},
     "output_type": "execute_result"
    }
   ],
   "source": [
    "df2.shape"
   ]
  },
  {
   "cell_type": "code",
   "execution_count": 122,
   "id": "e4a74f40",
   "metadata": {},
   "outputs": [
    {
     "data": {
      "text/plain": [
       "999    27766\n",
       "3        299\n",
       "6        291\n",
       "4         78\n",
       "9         45\n",
       "7         45\n",
       "12        43\n",
       "10        40\n",
       "5         39\n",
       "2         38\n",
       "13        30\n",
       "11        21\n",
       "1         15\n",
       "15        15\n",
       "14        14\n",
       "0         13\n",
       "8         13\n",
       "16         7\n",
       "17         6\n",
       "18         5\n",
       "19         2\n",
       "21         2\n",
       "22         2\n",
       "27         1\n",
       "26         1\n",
       "Name: lcdays, dtype: int64"
      ]
     },
     "execution_count": 122,
     "metadata": {},
     "output_type": "execute_result"
    }
   ],
   "source": [
    "#replace 999 with 0\n",
    "df['lcdays'].value_counts()"
   ]
  },
  {
   "cell_type": "code",
   "execution_count": 123,
   "id": "9981afa6",
   "metadata": {},
   "outputs": [],
   "source": [
    "df['lcdays'] = df['lcdays'].replace(999, 0)"
   ]
  },
  {
   "cell_type": "code",
   "execution_count": 124,
   "id": "6c63bac0",
   "metadata": {},
   "outputs": [
    {
     "data": {
      "text/plain": [
       "(28831, 17)"
      ]
     },
     "execution_count": 124,
     "metadata": {},
     "output_type": "execute_result"
    }
   ],
   "source": [
    "df.shape"
   ]
  },
  {
   "cell_type": "code",
   "execution_count": 125,
   "id": "09402d6c",
   "metadata": {},
   "outputs": [],
   "source": [
    "df2['lcdays'] = df2['lcdays'].replace(999, 0)"
   ]
  },
  {
   "cell_type": "code",
   "execution_count": 126,
   "id": "ecd14990",
   "metadata": {},
   "outputs": [
    {
     "data": {
      "text/plain": [
       "(12357, 16)"
      ]
     },
     "execution_count": 126,
     "metadata": {},
     "output_type": "execute_result"
    }
   ],
   "source": [
    "df2.shape"
   ]
  },
  {
   "cell_type": "code",
   "execution_count": 127,
   "id": "1abcc5d0",
   "metadata": {},
   "outputs": [
    {
     "data": {
      "text/plain": [
       "0    24910\n",
       "1     3192\n",
       "2      527\n",
       "3      145\n",
       "4       44\n",
       "5       11\n",
       "7        1\n",
       "6        1\n",
       "Name: pcontact, dtype: int64"
      ]
     },
     "execution_count": 127,
     "metadata": {},
     "output_type": "execute_result"
    }
   ],
   "source": [
    "df['pcontact'].value_counts()"
   ]
  },
  {
   "cell_type": "code",
   "execution_count": 128,
   "id": "41e9ba35",
   "metadata": {},
   "outputs": [
    {
     "data": {
      "text/plain": [
       "nonexistent    24910\n",
       "failure         2959\n",
       "success          962\n",
       "Name: presult, dtype: int64"
      ]
     },
     "execution_count": 128,
     "metadata": {},
     "output_type": "execute_result"
    }
   ],
   "source": [
    "df['presult'].value_counts()"
   ]
  },
  {
   "cell_type": "code",
   "execution_count": 129,
   "id": "435c31d4",
   "metadata": {},
   "outputs": [
    {
     "data": {
      "text/plain": [
       " 1.4    11355\n",
       "-1.8     6440\n",
       " 1.1     5447\n",
       "-0.1     2582\n",
       "-2.9     1154\n",
       "-3.4      769\n",
       "-1.7      533\n",
       "-1.1      425\n",
       "-3.0      120\n",
       "-0.2        6\n",
       "Name: employment, dtype: int64"
      ]
     },
     "execution_count": 129,
     "metadata": {},
     "output_type": "execute_result"
    }
   ],
   "source": [
    "df['employment'].value_counts()"
   ]
  },
  {
   "cell_type": "code",
   "execution_count": 130,
   "id": "29fa74da",
   "metadata": {},
   "outputs": [
    {
     "data": {
      "text/plain": [
       "0        93.918\n",
       "1        93.994\n",
       "2        92.893\n",
       "3        93.994\n",
       "4        94.465\n",
       "          ...  \n",
       "28826    92.893\n",
       "28827    93.444\n",
       "28828    93.918\n",
       "28829    93.918\n",
       "28830    93.444\n",
       "Name: cprice, Length: 28831, dtype: float64"
      ]
     },
     "execution_count": 130,
     "metadata": {},
     "output_type": "execute_result"
    }
   ],
   "source": [
    "df['cprice']"
   ]
  },
  {
   "cell_type": "code",
   "execution_count": 131,
   "id": "c7452a8f",
   "metadata": {},
   "outputs": [
    {
     "data": {
      "text/plain": [
       "0       -42.7\n",
       "1       -36.4\n",
       "2       -46.2\n",
       "3       -36.4\n",
       "4       -41.8\n",
       "         ... \n",
       "28826   -46.2\n",
       "28827   -36.1\n",
       "28828   -42.7\n",
       "28829   -42.7\n",
       "28830   -36.1\n",
       "Name: cconf, Length: 28831, dtype: float64"
      ]
     },
     "execution_count": 131,
     "metadata": {},
     "output_type": "execute_result"
    }
   ],
   "source": [
    "df['cconf']"
   ]
  },
  {
   "cell_type": "code",
   "execution_count": 132,
   "id": "220a9d29",
   "metadata": {},
   "outputs": [
    {
     "data": {
      "text/html": [
       "<div>\n",
       "<style scoped>\n",
       "    .dataframe tbody tr th:only-of-type {\n",
       "        vertical-align: middle;\n",
       "    }\n",
       "\n",
       "    .dataframe tbody tr th {\n",
       "        vertical-align: top;\n",
       "    }\n",
       "\n",
       "    .dataframe thead th {\n",
       "        text-align: right;\n",
       "    }\n",
       "</style>\n",
       "<table border=\"1\" class=\"dataframe\">\n",
       "  <thead>\n",
       "    <tr style=\"text-align: right;\">\n",
       "      <th></th>\n",
       "      <th>ccontact</th>\n",
       "      <th>outcome</th>\n",
       "    </tr>\n",
       "  </thead>\n",
       "  <tbody>\n",
       "    <tr>\n",
       "      <th>ccontact</th>\n",
       "      <td>1.000000</td>\n",
       "      <td>-0.068043</td>\n",
       "    </tr>\n",
       "    <tr>\n",
       "      <th>outcome</th>\n",
       "      <td>-0.068043</td>\n",
       "      <td>1.000000</td>\n",
       "    </tr>\n",
       "  </tbody>\n",
       "</table>\n",
       "</div>"
      ],
      "text/plain": [
       "          ccontact   outcome\n",
       "ccontact  1.000000 -0.068043\n",
       "outcome  -0.068043  1.000000"
      ]
     },
     "execution_count": 132,
     "metadata": {},
     "output_type": "execute_result"
    }
   ],
   "source": [
    "df[['ccontact','outcome']].corr()"
   ]
  },
  {
   "cell_type": "code",
   "execution_count": 133,
   "id": "b53f7762",
   "metadata": {},
   "outputs": [
    {
     "data": {
      "text/html": [
       "<div>\n",
       "<style scoped>\n",
       "    .dataframe tbody tr th:only-of-type {\n",
       "        vertical-align: middle;\n",
       "    }\n",
       "\n",
       "    .dataframe tbody tr th {\n",
       "        vertical-align: top;\n",
       "    }\n",
       "\n",
       "    .dataframe thead th {\n",
       "        text-align: right;\n",
       "    }\n",
       "</style>\n",
       "<table border=\"1\" class=\"dataframe\">\n",
       "  <thead>\n",
       "    <tr style=\"text-align: right;\">\n",
       "      <th></th>\n",
       "      <th>cprice</th>\n",
       "      <th>cconf</th>\n",
       "      <th>euri3</th>\n",
       "      <th>outcome</th>\n",
       "    </tr>\n",
       "  </thead>\n",
       "  <tbody>\n",
       "    <tr>\n",
       "      <th>cprice</th>\n",
       "      <td>1.000000</td>\n",
       "      <td>0.057044</td>\n",
       "      <td>0.692481</td>\n",
       "      <td>-0.143673</td>\n",
       "    </tr>\n",
       "    <tr>\n",
       "      <th>cconf</th>\n",
       "      <td>0.057044</td>\n",
       "      <td>1.000000</td>\n",
       "      <td>0.274290</td>\n",
       "      <td>0.060505</td>\n",
       "    </tr>\n",
       "    <tr>\n",
       "      <th>euri3</th>\n",
       "      <td>0.692481</td>\n",
       "      <td>0.274290</td>\n",
       "      <td>1.000000</td>\n",
       "      <td>-0.302315</td>\n",
       "    </tr>\n",
       "    <tr>\n",
       "      <th>outcome</th>\n",
       "      <td>-0.143673</td>\n",
       "      <td>0.060505</td>\n",
       "      <td>-0.302315</td>\n",
       "      <td>1.000000</td>\n",
       "    </tr>\n",
       "  </tbody>\n",
       "</table>\n",
       "</div>"
      ],
      "text/plain": [
       "           cprice     cconf     euri3   outcome\n",
       "cprice   1.000000  0.057044  0.692481 -0.143673\n",
       "cconf    0.057044  1.000000  0.274290  0.060505\n",
       "euri3    0.692481  0.274290  1.000000 -0.302315\n",
       "outcome -0.143673  0.060505 -0.302315  1.000000"
      ]
     },
     "execution_count": 133,
     "metadata": {},
     "output_type": "execute_result"
    }
   ],
   "source": [
    "df[['cprice','cconf','euri3','outcome']].corr()"
   ]
  },
  {
   "cell_type": "code",
   "execution_count": 134,
   "id": "c8fa5f01",
   "metadata": {},
   "outputs": [
    {
     "data": {
      "image/png": "[encoded data removed]",
      "text/plain": [
       "<Figure size 640x480 with 2 Axes>"
      ]
     },
     "metadata": {},
     "output_type": "display_data"
    }
   ],
   "source": [
    "import seaborn as sns\n",
    "corr_matrix = df[['cprice', 'cconf', 'euri3', 'outcome']].corr()\n",
    "\n",
    "# Plot the heatmap\n",
    "sns.heatmap(corr_matrix, annot=True, cmap='coolwarm')\n",
    "\n",
    "# Set the plot title\n",
    "plt.title('Correlation Matrix')\n",
    "\n",
    "# Show the plot\n",
    "plt.show()"
   ]
  },
  {
   "cell_type": "code",
   "execution_count": 135,
   "id": "49e7517b",
   "metadata": {},
   "outputs": [
    {
     "data": {
      "text/plain": [
       "<AxesSubplot:>"
      ]
     },
     "execution_count": 135,
     "metadata": {},
     "output_type": "execute_result"
    },
    {
     "data": {
      "image/png": "[encoded data removed]",
      "text/plain": [
       "<Figure size 640x480 with 1 Axes>"
      ]
     },
     "metadata": {},
     "output_type": "display_data"
    }
   ],
   "source": [
    "df['employees'].hist()"
   ]
  },
  {
   "cell_type": "code",
   "execution_count": null,
   "id": "94be6259",
   "metadata": {},
   "outputs": [],
   "source": []
  },
  {
   "cell_type": "code",
   "execution_count": 136,
   "id": "69ed8a95",
   "metadata": {},
   "outputs": [
    {
     "data": {
      "text/html": [
       "<div>\n",
       "<style scoped>\n",
       "    .dataframe tbody tr th:only-of-type {\n",
       "        vertical-align: middle;\n",
       "    }\n",
       "\n",
       "    .dataframe tbody tr th {\n",
       "        vertical-align: top;\n",
       "    }\n",
       "\n",
       "    .dataframe thead th {\n",
       "        text-align: right;\n",
       "    }\n",
       "</style>\n",
       "<table border=\"1\" class=\"dataframe\">\n",
       "  <thead>\n",
       "    <tr style=\"text-align: right;\">\n",
       "      <th></th>\n",
       "      <th>age</th>\n",
       "      <th>job</th>\n",
       "      <th>civil</th>\n",
       "      <th>edu</th>\n",
       "      <th>hloan</th>\n",
       "      <th>ploan</th>\n",
       "      <th>ctype</th>\n",
       "      <th>ccontact</th>\n",
       "      <th>lcdays</th>\n",
       "      <th>pcontact</th>\n",
       "      <th>presult</th>\n",
       "      <th>employment</th>\n",
       "      <th>cprice</th>\n",
       "      <th>cconf</th>\n",
       "      <th>euri3</th>\n",
       "      <th>employees</th>\n",
       "      <th>outcome</th>\n",
       "    </tr>\n",
       "  </thead>\n",
       "  <tbody>\n",
       "    <tr>\n",
       "      <th>0</th>\n",
       "      <td>-0.775010</td>\n",
       "      <td>technician</td>\n",
       "      <td>married</td>\n",
       "      <td>university</td>\n",
       "      <td>yes</td>\n",
       "      <td>no</td>\n",
       "      <td>cellular</td>\n",
       "      <td>1.591286</td>\n",
       "      <td>-0.165117</td>\n",
       "      <td>-0.351026</td>\n",
       "      <td>nonexistent</td>\n",
       "      <td>0.838719</td>\n",
       "      <td>0.593418</td>\n",
       "      <td>-0.474561</td>\n",
       "      <td>0.776078</td>\n",
       "      <td>0.845894</td>\n",
       "      <td>0</td>\n",
       "    </tr>\n",
       "    <tr>\n",
       "      <th>1</th>\n",
       "      <td>-1.254577</td>\n",
       "      <td>services</td>\n",
       "      <td>single</td>\n",
       "      <td>HighSchool</td>\n",
       "      <td>no</td>\n",
       "      <td>no</td>\n",
       "      <td>telephone</td>\n",
       "      <td>-0.206723</td>\n",
       "      <td>-0.165117</td>\n",
       "      <td>-0.351026</td>\n",
       "      <td>nonexistent</td>\n",
       "      <td>0.647921</td>\n",
       "      <td>0.724637</td>\n",
       "      <td>0.882399</td>\n",
       "      <td>0.712050</td>\n",
       "      <td>0.331127</td>\n",
       "      <td>0</td>\n",
       "    </tr>\n",
       "    <tr>\n",
       "      <th>2</th>\n",
       "      <td>1.622829</td>\n",
       "      <td>services</td>\n",
       "      <td>divorced</td>\n",
       "      <td>unknown</td>\n",
       "      <td>no</td>\n",
       "      <td>no</td>\n",
       "      <td>cellular</td>\n",
       "      <td>0.512481</td>\n",
       "      <td>-0.165117</td>\n",
       "      <td>-0.351026</td>\n",
       "      <td>nonexistent</td>\n",
       "      <td>-1.196466</td>\n",
       "      <td>-1.176315</td>\n",
       "      <td>-1.228427</td>\n",
       "      <td>-1.332225</td>\n",
       "      <td>-0.943996</td>\n",
       "      <td>0</td>\n",
       "    </tr>\n",
       "    <tr>\n",
       "      <th>3</th>\n",
       "      <td>0.184126</td>\n",
       "      <td>entrepreneur</td>\n",
       "      <td>married</td>\n",
       "      <td>university</td>\n",
       "      <td>no</td>\n",
       "      <td>no</td>\n",
       "      <td>telephone</td>\n",
       "      <td>-0.566325</td>\n",
       "      <td>-0.165117</td>\n",
       "      <td>-0.351026</td>\n",
       "      <td>nonexistent</td>\n",
       "      <td>0.647921</td>\n",
       "      <td>0.724637</td>\n",
       "      <td>0.882399</td>\n",
       "      <td>0.712627</td>\n",
       "      <td>0.331127</td>\n",
       "      <td>0</td>\n",
       "    </tr>\n",
       "    <tr>\n",
       "      <th>4</th>\n",
       "      <td>0.855520</td>\n",
       "      <td>technician</td>\n",
       "      <td>married</td>\n",
       "      <td>apprenticeship</td>\n",
       "      <td>no</td>\n",
       "      <td>yes</td>\n",
       "      <td>telephone</td>\n",
       "      <td>-0.566325</td>\n",
       "      <td>-0.165117</td>\n",
       "      <td>-0.351026</td>\n",
       "      <td>nonexistent</td>\n",
       "      <td>0.838719</td>\n",
       "      <td>1.537851</td>\n",
       "      <td>-0.280709</td>\n",
       "      <td>0.770309</td>\n",
       "      <td>0.845894</td>\n",
       "      <td>0</td>\n",
       "    </tr>\n",
       "  </tbody>\n",
       "</table>\n",
       "</div>"
      ],
      "text/plain": [
       "        age           job     civil             edu hloan ploan      ctype  \\\n",
       "0 -0.775010    technician   married      university   yes    no   cellular   \n",
       "1 -1.254577      services    single      HighSchool    no    no  telephone   \n",
       "2  1.622829      services  divorced         unknown    no    no   cellular   \n",
       "3  0.184126  entrepreneur   married      university    no    no  telephone   \n",
       "4  0.855520    technician   married  apprenticeship    no   yes  telephone   \n",
       "\n",
       "   ccontact    lcdays  pcontact      presult  employment    cprice     cconf  \\\n",
       "0  1.591286 -0.165117 -0.351026  nonexistent    0.838719  0.593418 -0.474561   \n",
       "1 -0.206723 -0.165117 -0.351026  nonexistent    0.647921  0.724637  0.882399   \n",
       "2  0.512481 -0.165117 -0.351026  nonexistent   -1.196466 -1.176315 -1.228427   \n",
       "3 -0.566325 -0.165117 -0.351026  nonexistent    0.647921  0.724637  0.882399   \n",
       "4 -0.566325 -0.165117 -0.351026  nonexistent    0.838719  1.537851 -0.280709   \n",
       "\n",
       "      euri3  employees  outcome  \n",
       "0  0.776078   0.845894        0  \n",
       "1  0.712050   0.331127        0  \n",
       "2 -1.332225  -0.943996        0  \n",
       "3  0.712627   0.331127        0  \n",
       "4  0.770309   0.845894        0  "
      ]
     },
     "execution_count": 136,
     "metadata": {},
     "output_type": "execute_result"
    }
   ],
   "source": [
    "#scaling numerical variables\n",
    "from sklearn.preprocessing import StandardScaler\n",
    "\n",
    "# Copying original dataframe (train)\n",
    "df3 = df.copy()\n",
    "\n",
    "scaler = StandardScaler()\n",
    "num_cols = ['age','ccontact','lcdays',  'pcontact', 'employment', 'cprice', 'cconf','euri3', 'employees']\n",
    "df3[num_cols] = scaler.fit_transform(df3[num_cols])\n",
    "\n",
    "df3.head()"
   ]
  },
  {
   "cell_type": "code",
   "execution_count": 137,
   "id": "c02a1377",
   "metadata": {},
   "outputs": [
    {
     "data": {
      "text/html": [
       "<div>\n",
       "<style scoped>\n",
       "    .dataframe tbody tr th:only-of-type {\n",
       "        vertical-align: middle;\n",
       "    }\n",
       "\n",
       "    .dataframe tbody tr th {\n",
       "        vertical-align: top;\n",
       "    }\n",
       "\n",
       "    .dataframe thead th {\n",
       "        text-align: right;\n",
       "    }\n",
       "</style>\n",
       "<table border=\"1\" class=\"dataframe\">\n",
       "  <thead>\n",
       "    <tr style=\"text-align: right;\">\n",
       "      <th></th>\n",
       "      <th>age</th>\n",
       "      <th>job</th>\n",
       "      <th>civil</th>\n",
       "      <th>edu</th>\n",
       "      <th>hloan</th>\n",
       "      <th>ploan</th>\n",
       "      <th>ctype</th>\n",
       "      <th>ccontact</th>\n",
       "      <th>lcdays</th>\n",
       "      <th>pcontact</th>\n",
       "      <th>presult</th>\n",
       "      <th>employment</th>\n",
       "      <th>cprice</th>\n",
       "      <th>cconf</th>\n",
       "      <th>euri3</th>\n",
       "      <th>employees</th>\n",
       "    </tr>\n",
       "  </thead>\n",
       "  <tbody>\n",
       "    <tr>\n",
       "      <th>0</th>\n",
       "      <td>0.490674</td>\n",
       "      <td>services</td>\n",
       "      <td>married</td>\n",
       "      <td>HighSchool</td>\n",
       "      <td>no</td>\n",
       "      <td>no</td>\n",
       "      <td>telephone</td>\n",
       "      <td>-0.565018</td>\n",
       "      <td>-0.161439</td>\n",
       "      <td>-0.346483</td>\n",
       "      <td>nonexistent</td>\n",
       "      <td>0.648496</td>\n",
       "      <td>0.718263</td>\n",
       "      <td>0.89603</td>\n",
       "      <td>0.713417</td>\n",
       "      <td>0.332969</td>\n",
       "    </tr>\n",
       "    <tr>\n",
       "      <th>1</th>\n",
       "      <td>0.106370</td>\n",
       "      <td>artisan</td>\n",
       "      <td>married</td>\n",
       "      <td>unknown</td>\n",
       "      <td>no</td>\n",
       "      <td>no</td>\n",
       "      <td>telephone</td>\n",
       "      <td>-0.565018</td>\n",
       "      <td>-0.161439</td>\n",
       "      <td>-0.346483</td>\n",
       "      <td>nonexistent</td>\n",
       "      <td>0.648496</td>\n",
       "      <td>0.718263</td>\n",
       "      <td>0.89603</td>\n",
       "      <td>0.713417</td>\n",
       "      <td>0.332969</td>\n",
       "    </tr>\n",
       "    <tr>\n",
       "      <th>2</th>\n",
       "      <td>0.106370</td>\n",
       "      <td>artisan</td>\n",
       "      <td>married</td>\n",
       "      <td>unknown</td>\n",
       "      <td>no</td>\n",
       "      <td>no</td>\n",
       "      <td>telephone</td>\n",
       "      <td>-0.565018</td>\n",
       "      <td>-0.161439</td>\n",
       "      <td>-0.346483</td>\n",
       "      <td>nonexistent</td>\n",
       "      <td>0.648496</td>\n",
       "      <td>0.718263</td>\n",
       "      <td>0.89603</td>\n",
       "      <td>0.713417</td>\n",
       "      <td>0.332969</td>\n",
       "    </tr>\n",
       "    <tr>\n",
       "      <th>3</th>\n",
       "      <td>1.355359</td>\n",
       "      <td>retired</td>\n",
       "      <td>married</td>\n",
       "      <td>HighSchool</td>\n",
       "      <td>yes</td>\n",
       "      <td>yes</td>\n",
       "      <td>telephone</td>\n",
       "      <td>-0.565018</td>\n",
       "      <td>-0.161439</td>\n",
       "      <td>-0.346483</td>\n",
       "      <td>nonexistent</td>\n",
       "      <td>0.648496</td>\n",
       "      <td>0.718263</td>\n",
       "      <td>0.89603</td>\n",
       "      <td>0.713417</td>\n",
       "      <td>0.332969</td>\n",
       "    </tr>\n",
       "    <tr>\n",
       "      <th>4</th>\n",
       "      <td>-0.950466</td>\n",
       "      <td>unemployed</td>\n",
       "      <td>married</td>\n",
       "      <td>HighSchool</td>\n",
       "      <td>no</td>\n",
       "      <td>no</td>\n",
       "      <td>telephone</td>\n",
       "      <td>-0.565018</td>\n",
       "      <td>-0.161439</td>\n",
       "      <td>-0.346483</td>\n",
       "      <td>nonexistent</td>\n",
       "      <td>0.648496</td>\n",
       "      <td>0.718263</td>\n",
       "      <td>0.89603</td>\n",
       "      <td>0.713417</td>\n",
       "      <td>0.332969</td>\n",
       "    </tr>\n",
       "  </tbody>\n",
       "</table>\n",
       "</div>"
      ],
      "text/plain": [
       "        age         job    civil         edu hloan ploan      ctype  ccontact  \\\n",
       "0  0.490674    services  married  HighSchool    no    no  telephone -0.565018   \n",
       "1  0.106370     artisan  married     unknown    no    no  telephone -0.565018   \n",
       "2  0.106370     artisan  married     unknown    no    no  telephone -0.565018   \n",
       "3  1.355359     retired  married  HighSchool   yes   yes  telephone -0.565018   \n",
       "4 -0.950466  unemployed  married  HighSchool    no    no  telephone -0.565018   \n",
       "\n",
       "     lcdays  pcontact      presult  employment    cprice    cconf     euri3  \\\n",
       "0 -0.161439 -0.346483  nonexistent    0.648496  0.718263  0.89603  0.713417   \n",
       "1 -0.161439 -0.346483  nonexistent    0.648496  0.718263  0.89603  0.713417   \n",
       "2 -0.161439 -0.346483  nonexistent    0.648496  0.718263  0.89603  0.713417   \n",
       "3 -0.161439 -0.346483  nonexistent    0.648496  0.718263  0.89603  0.713417   \n",
       "4 -0.161439 -0.346483  nonexistent    0.648496  0.718263  0.89603  0.713417   \n",
       "\n",
       "   employees  \n",
       "0   0.332969  \n",
       "1   0.332969  \n",
       "2   0.332969  \n",
       "3   0.332969  \n",
       "4   0.332969  "
      ]
     },
     "execution_count": 137,
     "metadata": {},
     "output_type": "execute_result"
    }
   ],
   "source": [
    "#scaling numerical variables in TEST Data\n",
    "from sklearn.preprocessing import StandardScaler\n",
    "\n",
    "# Copying original dataframe (test)\n",
    "df4 = df2.copy()\n",
    "\n",
    "#scaler = StandardScaler()\n",
    "num_cols = ['age','ccontact','lcdays',  'pcontact', 'employment', 'cprice', 'cconf','euri3', 'employees']\n",
    "df4[num_cols] = scaler.fit_transform(df4[num_cols])\n",
    "\n",
    "df4.head()"
   ]
  },
  {
   "cell_type": "code",
   "execution_count": null,
   "id": "b26ec363",
   "metadata": {},
   "outputs": [],
   "source": []
  },
  {
   "cell_type": "code",
   "execution_count": 138,
   "id": "e6b6b518",
   "metadata": {},
   "outputs": [],
   "source": [
    "#creating dummy variables on TRAIN data\n",
    "model_df = pd.get_dummies(df3,drop_first=True)"
   ]
  },
  {
   "cell_type": "code",
   "execution_count": 139,
   "id": "2b8e3388",
   "metadata": {},
   "outputs": [
    {
     "data": {
      "text/plain": [
       "(28831, 36)"
      ]
     },
     "execution_count": 139,
     "metadata": {},
     "output_type": "execute_result"
    }
   ],
   "source": [
    "model_df.shape"
   ]
  },
  {
   "cell_type": "code",
   "execution_count": 140,
   "id": "a3b10868",
   "metadata": {},
   "outputs": [],
   "source": [
    "#creating dummy variables on TEST data\n",
    "model_df2 = pd.get_dummies(df4,drop_first=True)"
   ]
  },
  {
   "cell_type": "code",
   "execution_count": 141,
   "id": "4c5e999b",
   "metadata": {},
   "outputs": [
    {
     "data": {
      "text/html": [
       "<div>\n",
       "<style scoped>\n",
       "    .dataframe tbody tr th:only-of-type {\n",
       "        vertical-align: middle;\n",
       "    }\n",
       "\n",
       "    .dataframe tbody tr th {\n",
       "        vertical-align: top;\n",
       "    }\n",
       "\n",
       "    .dataframe thead th {\n",
       "        text-align: right;\n",
       "    }\n",
       "</style>\n",
       "<table border=\"1\" class=\"dataframe\">\n",
       "  <thead>\n",
       "    <tr style=\"text-align: right;\">\n",
       "      <th></th>\n",
       "      <th>age</th>\n",
       "      <th>ccontact</th>\n",
       "      <th>lcdays</th>\n",
       "      <th>pcontact</th>\n",
       "      <th>employment</th>\n",
       "      <th>cprice</th>\n",
       "      <th>cconf</th>\n",
       "      <th>euri3</th>\n",
       "      <th>employees</th>\n",
       "      <th>job_artisan</th>\n",
       "      <th>...</th>\n",
       "      <th>edu_illiterate</th>\n",
       "      <th>edu_university</th>\n",
       "      <th>edu_unknown</th>\n",
       "      <th>hloan_unknown</th>\n",
       "      <th>hloan_yes</th>\n",
       "      <th>ploan_unknown</th>\n",
       "      <th>ploan_yes</th>\n",
       "      <th>ctype_telephone</th>\n",
       "      <th>presult_nonexistent</th>\n",
       "      <th>presult_success</th>\n",
       "    </tr>\n",
       "  </thead>\n",
       "  <tbody>\n",
       "    <tr>\n",
       "      <th>0</th>\n",
       "      <td>0.490674</td>\n",
       "      <td>-0.565018</td>\n",
       "      <td>-0.161439</td>\n",
       "      <td>-0.346483</td>\n",
       "      <td>0.648496</td>\n",
       "      <td>0.718263</td>\n",
       "      <td>0.896030</td>\n",
       "      <td>0.713417</td>\n",
       "      <td>0.332969</td>\n",
       "      <td>0</td>\n",
       "      <td>...</td>\n",
       "      <td>0</td>\n",
       "      <td>0</td>\n",
       "      <td>0</td>\n",
       "      <td>0</td>\n",
       "      <td>0</td>\n",
       "      <td>0</td>\n",
       "      <td>0</td>\n",
       "      <td>1</td>\n",
       "      <td>1</td>\n",
       "      <td>0</td>\n",
       "    </tr>\n",
       "    <tr>\n",
       "      <th>1</th>\n",
       "      <td>0.106370</td>\n",
       "      <td>-0.565018</td>\n",
       "      <td>-0.161439</td>\n",
       "      <td>-0.346483</td>\n",
       "      <td>0.648496</td>\n",
       "      <td>0.718263</td>\n",
       "      <td>0.896030</td>\n",
       "      <td>0.713417</td>\n",
       "      <td>0.332969</td>\n",
       "      <td>1</td>\n",
       "      <td>...</td>\n",
       "      <td>0</td>\n",
       "      <td>0</td>\n",
       "      <td>1</td>\n",
       "      <td>0</td>\n",
       "      <td>0</td>\n",
       "      <td>0</td>\n",
       "      <td>0</td>\n",
       "      <td>1</td>\n",
       "      <td>1</td>\n",
       "      <td>0</td>\n",
       "    </tr>\n",
       "    <tr>\n",
       "      <th>2</th>\n",
       "      <td>0.106370</td>\n",
       "      <td>-0.565018</td>\n",
       "      <td>-0.161439</td>\n",
       "      <td>-0.346483</td>\n",
       "      <td>0.648496</td>\n",
       "      <td>0.718263</td>\n",
       "      <td>0.896030</td>\n",
       "      <td>0.713417</td>\n",
       "      <td>0.332969</td>\n",
       "      <td>1</td>\n",
       "      <td>...</td>\n",
       "      <td>0</td>\n",
       "      <td>0</td>\n",
       "      <td>1</td>\n",
       "      <td>0</td>\n",
       "      <td>0</td>\n",
       "      <td>0</td>\n",
       "      <td>0</td>\n",
       "      <td>1</td>\n",
       "      <td>1</td>\n",
       "      <td>0</td>\n",
       "    </tr>\n",
       "    <tr>\n",
       "      <th>3</th>\n",
       "      <td>1.355359</td>\n",
       "      <td>-0.565018</td>\n",
       "      <td>-0.161439</td>\n",
       "      <td>-0.346483</td>\n",
       "      <td>0.648496</td>\n",
       "      <td>0.718263</td>\n",
       "      <td>0.896030</td>\n",
       "      <td>0.713417</td>\n",
       "      <td>0.332969</td>\n",
       "      <td>0</td>\n",
       "      <td>...</td>\n",
       "      <td>0</td>\n",
       "      <td>0</td>\n",
       "      <td>0</td>\n",
       "      <td>0</td>\n",
       "      <td>1</td>\n",
       "      <td>0</td>\n",
       "      <td>1</td>\n",
       "      <td>1</td>\n",
       "      <td>1</td>\n",
       "      <td>0</td>\n",
       "    </tr>\n",
       "    <tr>\n",
       "      <th>4</th>\n",
       "      <td>-0.950466</td>\n",
       "      <td>-0.565018</td>\n",
       "      <td>-0.161439</td>\n",
       "      <td>-0.346483</td>\n",
       "      <td>0.648496</td>\n",
       "      <td>0.718263</td>\n",
       "      <td>0.896030</td>\n",
       "      <td>0.713417</td>\n",
       "      <td>0.332969</td>\n",
       "      <td>0</td>\n",
       "      <td>...</td>\n",
       "      <td>0</td>\n",
       "      <td>0</td>\n",
       "      <td>0</td>\n",
       "      <td>0</td>\n",
       "      <td>0</td>\n",
       "      <td>0</td>\n",
       "      <td>0</td>\n",
       "      <td>1</td>\n",
       "      <td>1</td>\n",
       "      <td>0</td>\n",
       "    </tr>\n",
       "    <tr>\n",
       "      <th>...</th>\n",
       "      <td>...</td>\n",
       "      <td>...</td>\n",
       "      <td>...</td>\n",
       "      <td>...</td>\n",
       "      <td>...</td>\n",
       "      <td>...</td>\n",
       "      <td>...</td>\n",
       "      <td>...</td>\n",
       "      <td>...</td>\n",
       "      <td>...</td>\n",
       "      <td>...</td>\n",
       "      <td>...</td>\n",
       "      <td>...</td>\n",
       "      <td>...</td>\n",
       "      <td>...</td>\n",
       "      <td>...</td>\n",
       "      <td>...</td>\n",
       "      <td>...</td>\n",
       "      <td>...</td>\n",
       "      <td>...</td>\n",
       "      <td>...</td>\n",
       "    </tr>\n",
       "    <tr>\n",
       "      <th>12352</th>\n",
       "      <td>-0.181858</td>\n",
       "      <td>-0.200636</td>\n",
       "      <td>-0.161439</td>\n",
       "      <td>-0.346483</td>\n",
       "      <td>-0.754857</td>\n",
       "      <td>2.055628</td>\n",
       "      <td>-2.238566</td>\n",
       "      <td>-1.490698</td>\n",
       "      <td>-2.796400</td>\n",
       "      <td>0</td>\n",
       "      <td>...</td>\n",
       "      <td>0</td>\n",
       "      <td>1</td>\n",
       "      <td>0</td>\n",
       "      <td>0</td>\n",
       "      <td>0</td>\n",
       "      <td>0</td>\n",
       "      <td>0</td>\n",
       "      <td>0</td>\n",
       "      <td>1</td>\n",
       "      <td>0</td>\n",
       "    </tr>\n",
       "    <tr>\n",
       "      <th>12353</th>\n",
       "      <td>-0.758314</td>\n",
       "      <td>0.163746</td>\n",
       "      <td>-0.161439</td>\n",
       "      <td>-0.346483</td>\n",
       "      <td>-0.754857</td>\n",
       "      <td>2.055628</td>\n",
       "      <td>-2.238566</td>\n",
       "      <td>-1.490698</td>\n",
       "      <td>-2.796400</td>\n",
       "      <td>0</td>\n",
       "      <td>...</td>\n",
       "      <td>0</td>\n",
       "      <td>1</td>\n",
       "      <td>0</td>\n",
       "      <td>0</td>\n",
       "      <td>1</td>\n",
       "      <td>0</td>\n",
       "      <td>0</td>\n",
       "      <td>0</td>\n",
       "      <td>1</td>\n",
       "      <td>0</td>\n",
       "    </tr>\n",
       "    <tr>\n",
       "      <th>12354</th>\n",
       "      <td>2.123968</td>\n",
       "      <td>-0.565018</td>\n",
       "      <td>0.603477</td>\n",
       "      <td>11.335609</td>\n",
       "      <td>-0.754857</td>\n",
       "      <td>2.055628</td>\n",
       "      <td>-2.238566</td>\n",
       "      <td>-1.490122</td>\n",
       "      <td>-2.796400</td>\n",
       "      <td>0</td>\n",
       "      <td>...</td>\n",
       "      <td>0</td>\n",
       "      <td>1</td>\n",
       "      <td>0</td>\n",
       "      <td>0</td>\n",
       "      <td>1</td>\n",
       "      <td>0</td>\n",
       "      <td>0</td>\n",
       "      <td>0</td>\n",
       "      <td>0</td>\n",
       "      <td>1</td>\n",
       "    </tr>\n",
       "    <tr>\n",
       "      <th>12355</th>\n",
       "      <td>2.123968</td>\n",
       "      <td>-0.200636</td>\n",
       "      <td>4.428060</td>\n",
       "      <td>5.494563</td>\n",
       "      <td>-0.754857</td>\n",
       "      <td>2.055628</td>\n",
       "      <td>-2.238566</td>\n",
       "      <td>-1.490122</td>\n",
       "      <td>-2.796400</td>\n",
       "      <td>0</td>\n",
       "      <td>...</td>\n",
       "      <td>0</td>\n",
       "      <td>1</td>\n",
       "      <td>0</td>\n",
       "      <td>0</td>\n",
       "      <td>0</td>\n",
       "      <td>0</td>\n",
       "      <td>0</td>\n",
       "      <td>0</td>\n",
       "      <td>0</td>\n",
       "      <td>1</td>\n",
       "    </tr>\n",
       "    <tr>\n",
       "      <th>12356</th>\n",
       "      <td>0.394598</td>\n",
       "      <td>-0.565018</td>\n",
       "      <td>-0.161439</td>\n",
       "      <td>-0.346483</td>\n",
       "      <td>-0.754857</td>\n",
       "      <td>2.055628</td>\n",
       "      <td>-2.238566</td>\n",
       "      <td>-1.491850</td>\n",
       "      <td>-2.796400</td>\n",
       "      <td>0</td>\n",
       "      <td>...</td>\n",
       "      <td>0</td>\n",
       "      <td>0</td>\n",
       "      <td>0</td>\n",
       "      <td>0</td>\n",
       "      <td>0</td>\n",
       "      <td>0</td>\n",
       "      <td>0</td>\n",
       "      <td>0</td>\n",
       "      <td>1</td>\n",
       "      <td>0</td>\n",
       "    </tr>\n",
       "  </tbody>\n",
       "</table>\n",
       "<p>12357 rows × 35 columns</p>\n",
       "</div>"
      ],
      "text/plain": [
       "            age  ccontact    lcdays   pcontact  employment    cprice  \\\n",
       "0      0.490674 -0.565018 -0.161439  -0.346483    0.648496  0.718263   \n",
       "1      0.106370 -0.565018 -0.161439  -0.346483    0.648496  0.718263   \n",
       "2      0.106370 -0.565018 -0.161439  -0.346483    0.648496  0.718263   \n",
       "3      1.355359 -0.565018 -0.161439  -0.346483    0.648496  0.718263   \n",
       "4     -0.950466 -0.565018 -0.161439  -0.346483    0.648496  0.718263   \n",
       "...         ...       ...       ...        ...         ...       ...   \n",
       "12352 -0.181858 -0.200636 -0.161439  -0.346483   -0.754857  2.055628   \n",
       "12353 -0.758314  0.163746 -0.161439  -0.346483   -0.754857  2.055628   \n",
       "12354  2.123968 -0.565018  0.603477  11.335609   -0.754857  2.055628   \n",
       "12355  2.123968 -0.200636  4.428060   5.494563   -0.754857  2.055628   \n",
       "12356  0.394598 -0.565018 -0.161439  -0.346483   -0.754857  2.055628   \n",
       "\n",
       "          cconf     euri3  employees  job_artisan  ...  edu_illiterate  \\\n",
       "0      0.896030  0.713417   0.332969            0  ...               0   \n",
       "1      0.896030  0.713417   0.332969            1  ...               0   \n",
       "2      0.896030  0.713417   0.332969            1  ...               0   \n",
       "3      0.896030  0.713417   0.332969            0  ...               0   \n",
       "4      0.896030  0.713417   0.332969            0  ...               0   \n",
       "...         ...       ...        ...          ...  ...             ...   \n",
       "12352 -2.238566 -1.490698  -2.796400            0  ...               0   \n",
       "12353 -2.238566 -1.490698  -2.796400            0  ...               0   \n",
       "12354 -2.238566 -1.490122  -2.796400            0  ...               0   \n",
       "12355 -2.238566 -1.490122  -2.796400            0  ...               0   \n",
       "12356 -2.238566 -1.491850  -2.796400            0  ...               0   \n",
       "\n",
       "       edu_university  edu_unknown  hloan_unknown  hloan_yes  ploan_unknown  \\\n",
       "0                   0            0              0          0              0   \n",
       "1                   0            1              0          0              0   \n",
       "2                   0            1              0          0              0   \n",
       "3                   0            0              0          1              0   \n",
       "4                   0            0              0          0              0   \n",
       "...               ...          ...            ...        ...            ...   \n",
       "12352               1            0              0          0              0   \n",
       "12353               1            0              0          1              0   \n",
       "12354               1            0              0          1              0   \n",
       "12355               1            0              0          0              0   \n",
       "12356               0            0              0          0              0   \n",
       "\n",
       "       ploan_yes  ctype_telephone  presult_nonexistent  presult_success  \n",
       "0              0                1                    1                0  \n",
       "1              0                1                    1                0  \n",
       "2              0                1                    1                0  \n",
       "3              1                1                    1                0  \n",
       "4              0                1                    1                0  \n",
       "...          ...              ...                  ...              ...  \n",
       "12352          0                0                    1                0  \n",
       "12353          0                0                    1                0  \n",
       "12354          0                0                    0                1  \n",
       "12355          0                0                    0                1  \n",
       "12356          0                0                    1                0  \n",
       "\n",
       "[12357 rows x 35 columns]"
      ]
     },
     "execution_count": 141,
     "metadata": {},
     "output_type": "execute_result"
    }
   ],
   "source": [
    "model_df2"
   ]
  },
  {
   "cell_type": "code",
   "execution_count": 142,
   "id": "cdc79334",
   "metadata": {},
   "outputs": [
    {
     "data": {
      "text/plain": [
       "(12357, 35)"
      ]
     },
     "execution_count": 142,
     "metadata": {},
     "output_type": "execute_result"
    }
   ],
   "source": [
    "model_df2.shape"
   ]
  },
  {
   "cell_type": "code",
   "execution_count": 143,
   "id": "cae69b77",
   "metadata": {},
   "outputs": [
    {
     "data": {
      "text/html": [
       "<div>\n",
       "<style scoped>\n",
       "    .dataframe tbody tr th:only-of-type {\n",
       "        vertical-align: middle;\n",
       "    }\n",
       "\n",
       "    .dataframe tbody tr th {\n",
       "        vertical-align: top;\n",
       "    }\n",
       "\n",
       "    .dataframe thead th {\n",
       "        text-align: right;\n",
       "    }\n",
       "</style>\n",
       "<table border=\"1\" class=\"dataframe\">\n",
       "  <thead>\n",
       "    <tr style=\"text-align: right;\">\n",
       "      <th></th>\n",
       "      <th>age</th>\n",
       "      <th>ccontact</th>\n",
       "      <th>lcdays</th>\n",
       "      <th>pcontact</th>\n",
       "      <th>employment</th>\n",
       "      <th>cprice</th>\n",
       "      <th>cconf</th>\n",
       "      <th>euri3</th>\n",
       "      <th>employees</th>\n",
       "      <th>outcome</th>\n",
       "      <th>...</th>\n",
       "      <th>edu_illiterate</th>\n",
       "      <th>edu_university</th>\n",
       "      <th>edu_unknown</th>\n",
       "      <th>hloan_unknown</th>\n",
       "      <th>hloan_yes</th>\n",
       "      <th>ploan_unknown</th>\n",
       "      <th>ploan_yes</th>\n",
       "      <th>ctype_telephone</th>\n",
       "      <th>presult_nonexistent</th>\n",
       "      <th>presult_success</th>\n",
       "    </tr>\n",
       "  </thead>\n",
       "  <tbody>\n",
       "    <tr>\n",
       "      <th>0</th>\n",
       "      <td>-0.775010</td>\n",
       "      <td>1.591286</td>\n",
       "      <td>-0.165117</td>\n",
       "      <td>-0.351026</td>\n",
       "      <td>0.838719</td>\n",
       "      <td>0.593418</td>\n",
       "      <td>-0.474561</td>\n",
       "      <td>0.776078</td>\n",
       "      <td>0.845894</td>\n",
       "      <td>0</td>\n",
       "      <td>...</td>\n",
       "      <td>0</td>\n",
       "      <td>1</td>\n",
       "      <td>0</td>\n",
       "      <td>0</td>\n",
       "      <td>1</td>\n",
       "      <td>0</td>\n",
       "      <td>0</td>\n",
       "      <td>0</td>\n",
       "      <td>1</td>\n",
       "      <td>0</td>\n",
       "    </tr>\n",
       "    <tr>\n",
       "      <th>1</th>\n",
       "      <td>-1.254577</td>\n",
       "      <td>-0.206723</td>\n",
       "      <td>-0.165117</td>\n",
       "      <td>-0.351026</td>\n",
       "      <td>0.647921</td>\n",
       "      <td>0.724637</td>\n",
       "      <td>0.882399</td>\n",
       "      <td>0.712050</td>\n",
       "      <td>0.331127</td>\n",
       "      <td>0</td>\n",
       "      <td>...</td>\n",
       "      <td>0</td>\n",
       "      <td>0</td>\n",
       "      <td>0</td>\n",
       "      <td>0</td>\n",
       "      <td>0</td>\n",
       "      <td>0</td>\n",
       "      <td>0</td>\n",
       "      <td>1</td>\n",
       "      <td>1</td>\n",
       "      <td>0</td>\n",
       "    </tr>\n",
       "    <tr>\n",
       "      <th>2</th>\n",
       "      <td>1.622829</td>\n",
       "      <td>0.512481</td>\n",
       "      <td>-0.165117</td>\n",
       "      <td>-0.351026</td>\n",
       "      <td>-1.196466</td>\n",
       "      <td>-1.176315</td>\n",
       "      <td>-1.228427</td>\n",
       "      <td>-1.332225</td>\n",
       "      <td>-0.943996</td>\n",
       "      <td>0</td>\n",
       "      <td>...</td>\n",
       "      <td>0</td>\n",
       "      <td>0</td>\n",
       "      <td>1</td>\n",
       "      <td>0</td>\n",
       "      <td>0</td>\n",
       "      <td>0</td>\n",
       "      <td>0</td>\n",
       "      <td>0</td>\n",
       "      <td>1</td>\n",
       "      <td>0</td>\n",
       "    </tr>\n",
       "    <tr>\n",
       "      <th>3</th>\n",
       "      <td>0.184126</td>\n",
       "      <td>-0.566325</td>\n",
       "      <td>-0.165117</td>\n",
       "      <td>-0.351026</td>\n",
       "      <td>0.647921</td>\n",
       "      <td>0.724637</td>\n",
       "      <td>0.882399</td>\n",
       "      <td>0.712627</td>\n",
       "      <td>0.331127</td>\n",
       "      <td>0</td>\n",
       "      <td>...</td>\n",
       "      <td>0</td>\n",
       "      <td>1</td>\n",
       "      <td>0</td>\n",
       "      <td>0</td>\n",
       "      <td>0</td>\n",
       "      <td>0</td>\n",
       "      <td>0</td>\n",
       "      <td>1</td>\n",
       "      <td>1</td>\n",
       "      <td>0</td>\n",
       "    </tr>\n",
       "    <tr>\n",
       "      <th>4</th>\n",
       "      <td>0.855520</td>\n",
       "      <td>-0.566325</td>\n",
       "      <td>-0.165117</td>\n",
       "      <td>-0.351026</td>\n",
       "      <td>0.838719</td>\n",
       "      <td>1.537851</td>\n",
       "      <td>-0.280709</td>\n",
       "      <td>0.770309</td>\n",
       "      <td>0.845894</td>\n",
       "      <td>0</td>\n",
       "      <td>...</td>\n",
       "      <td>0</td>\n",
       "      <td>0</td>\n",
       "      <td>0</td>\n",
       "      <td>0</td>\n",
       "      <td>0</td>\n",
       "      <td>0</td>\n",
       "      <td>1</td>\n",
       "      <td>1</td>\n",
       "      <td>1</td>\n",
       "      <td>0</td>\n",
       "    </tr>\n",
       "  </tbody>\n",
       "</table>\n",
       "<p>5 rows × 36 columns</p>\n",
       "</div>"
      ],
      "text/plain": [
       "        age  ccontact    lcdays  pcontact  employment    cprice     cconf  \\\n",
       "0 -0.775010  1.591286 -0.165117 -0.351026    0.838719  0.593418 -0.474561   \n",
       "1 -1.254577 -0.206723 -0.165117 -0.351026    0.647921  0.724637  0.882399   \n",
       "2  1.622829  0.512481 -0.165117 -0.351026   -1.196466 -1.176315 -1.228427   \n",
       "3  0.184126 -0.566325 -0.165117 -0.351026    0.647921  0.724637  0.882399   \n",
       "4  0.855520 -0.566325 -0.165117 -0.351026    0.838719  1.537851 -0.280709   \n",
       "\n",
       "      euri3  employees  outcome  ...  edu_illiterate  edu_university  \\\n",
       "0  0.776078   0.845894        0  ...               0               1   \n",
       "1  0.712050   0.331127        0  ...               0               0   \n",
       "2 -1.332225  -0.943996        0  ...               0               0   \n",
       "3  0.712627   0.331127        0  ...               0               1   \n",
       "4  0.770309   0.845894        0  ...               0               0   \n",
       "\n",
       "   edu_unknown  hloan_unknown  hloan_yes  ploan_unknown  ploan_yes  \\\n",
       "0            0              0          1              0          0   \n",
       "1            0              0          0              0          0   \n",
       "2            1              0          0              0          0   \n",
       "3            0              0          0              0          0   \n",
       "4            0              0          0              0          1   \n",
       "\n",
       "   ctype_telephone  presult_nonexistent  presult_success  \n",
       "0                0                    1                0  \n",
       "1                1                    1                0  \n",
       "2                0                    1                0  \n",
       "3                1                    1                0  \n",
       "4                1                    1                0  \n",
       "\n",
       "[5 rows x 36 columns]"
      ]
     },
     "execution_count": 143,
     "metadata": {},
     "output_type": "execute_result"
    }
   ],
   "source": [
    "model_df.head()"
   ]
  },
  {
   "cell_type": "code",
   "execution_count": 144,
   "id": "9c1d17a5",
   "metadata": {},
   "outputs": [
    {
     "data": {
      "text/plain": [
       "(28831, 36)"
      ]
     },
     "execution_count": 144,
     "metadata": {},
     "output_type": "execute_result"
    }
   ],
   "source": [
    "model_df.shape"
   ]
  },
  {
   "cell_type": "code",
   "execution_count": 145,
   "id": "b1089de5",
   "metadata": {},
   "outputs": [
    {
     "data": {
      "text/plain": [
       "Index(['age', 'ccontact', 'lcdays', 'pcontact', 'employment', 'cprice',\n",
       "       'cconf', 'euri3', 'employees', 'outcome', 'job_artisan',\n",
       "       'job_entrepreneur', 'job_housemaid', 'job_management', 'job_retired',\n",
       "       'job_selfemployed', 'job_services', 'job_student', 'job_technician',\n",
       "       'job_unemployed', 'job_unknown', 'civil_married', 'civil_single',\n",
       "       'civil_unknown', 'edu_MidSchool', 'edu_apprenticeship',\n",
       "       'edu_illiterate', 'edu_university', 'edu_unknown', 'hloan_unknown',\n",
       "       'hloan_yes', 'ploan_unknown', 'ploan_yes', 'ctype_telephone',\n",
       "       'presult_nonexistent', 'presult_success'],\n",
       "      dtype='object')"
      ]
     },
     "execution_count": 145,
     "metadata": {},
     "output_type": "execute_result"
    }
   ],
   "source": [
    "model_df.columns"
   ]
  },
  {
   "cell_type": "code",
   "execution_count": 146,
   "id": "a5e2e74a",
   "metadata": {},
   "outputs": [],
   "source": [
    "model_df = model_df.drop(['job_unknown','civil_unknown','edu_unknown','ploan_unknown'],axis=1)"
   ]
  },
  {
   "cell_type": "code",
   "execution_count": 147,
   "id": "f7ed7c8e",
   "metadata": {},
   "outputs": [
    {
     "data": {
      "text/plain": [
       "(28831, 32)"
      ]
     },
     "execution_count": 147,
     "metadata": {},
     "output_type": "execute_result"
    }
   ],
   "source": [
    "model_df.shape"
   ]
  },
  {
   "cell_type": "code",
   "execution_count": 148,
   "id": "721a3fb4",
   "metadata": {},
   "outputs": [],
   "source": [
    "model_df2 = model_df2.drop(['job_unknown','civil_unknown','edu_unknown','ploan_unknown'],axis=1)"
   ]
  },
  {
   "cell_type": "code",
   "execution_count": 149,
   "id": "bbb9af55",
   "metadata": {},
   "outputs": [
    {
     "data": {
      "text/plain": [
       "(12357, 31)"
      ]
     },
     "execution_count": 149,
     "metadata": {},
     "output_type": "execute_result"
    }
   ],
   "source": [
    "model_df2.shape"
   ]
  },
  {
   "cell_type": "code",
   "execution_count": 150,
   "id": "613a8e10",
   "metadata": {},
   "outputs": [],
   "source": [
    "X = model_df.drop('outcome' , axis=1)\n",
    "y = model_df['outcome']"
   ]
  },
  {
   "cell_type": "code",
   "execution_count": 151,
   "id": "6fe1fda7",
   "metadata": {},
   "outputs": [
    {
     "name": "stdout",
     "output_type": "stream",
     "text": [
      "length of oversampled data is  35814\n",
      "Number of no subscription in oversampled data 17907\n",
      "Number of subscription 17907\n",
      "Proportion of no subscription data in oversampled data is  0.5\n",
      "Proportion of subscription data in oversampled data is  0.5\n"
     ]
    }
   ],
   "source": [
    "#SMOTE\n",
    "from imblearn.over_sampling import SMOTE\n",
    "from sklearn.model_selection import train_test_split\n",
    "\n",
    "\n",
    "os = SMOTE(random_state=0)\n",
    "X_train, X_test, y_train, y_test = train_test_split(X, y, test_size=0.3, random_state=0)\n",
    "columns = X_train.columns\n",
    "\n",
    "os_data_X,os_data_y=os.fit_resample(X_train, y_train)\n",
    "os_data_X = pd.DataFrame(data=os_data_X,columns=columns )\n",
    "os_data_y= pd.DataFrame(data=os_data_y,columns=['outcome'])\n",
    "# we can Check the numbers of our data\n",
    "print(\"length of oversampled data is \",len(os_data_X))\n",
    "print(\"Number of no subscription in oversampled data\",len(os_data_y[os_data_y['outcome']==0]))\n",
    "print(\"Number of subscription\",len(os_data_y[os_data_y['outcome']==1]))\n",
    "print(\"Proportion of no subscription data in oversampled data is \",len(os_data_y[os_data_y['outcome']==0])/len(os_data_X))\n",
    "print(\"Proportion of subscription data in oversampled data is \",len(os_data_y[os_data_y['outcome']==1])/len(os_data_X))"
   ]
  },
  {
   "cell_type": "code",
   "execution_count": null,
   "id": "6c72fab8",
   "metadata": {},
   "outputs": [],
   "source": []
  },
  {
   "cell_type": "code",
   "execution_count": 152,
   "id": "ec4faefb",
   "metadata": {},
   "outputs": [
    {
     "data": {
      "text/plain": [
       "pandas.core.frame.DataFrame"
      ]
     },
     "execution_count": 152,
     "metadata": {},
     "output_type": "execute_result"
    }
   ],
   "source": [
    "type(X)"
   ]
  },
  {
   "cell_type": "code",
   "execution_count": 153,
   "id": "7155b307",
   "metadata": {},
   "outputs": [
    {
     "data": {
      "text/plain": [
       "pandas.core.series.Series"
      ]
     },
     "execution_count": 153,
     "metadata": {},
     "output_type": "execute_result"
    }
   ],
   "source": [
    "type(y)"
   ]
  },
  {
   "cell_type": "code",
   "execution_count": 154,
   "id": "04174830",
   "metadata": {},
   "outputs": [],
   "source": [
    "#Steps done till now\n",
    "#Month,day,credit columns dropped from TEST and TRAIN\n",
    "\n",
    "#Used standard scarler to scale numerical values \n",
    "\n",
    "#Used get dummies to make dummy variables \n",
    "\n",
    "#Split data into test and train "
   ]
  },
  {
   "cell_type": "code",
   "execution_count": 155,
   "id": "cd8a0d15",
   "metadata": {},
   "outputs": [],
   "source": [
    "import warnings\n",
    "warnings.filterwarnings(\"ignore\")"
   ]
  },
  {
   "cell_type": "markdown",
   "id": "160f1a1e",
   "metadata": {},
   "source": [
    "#Model Implementation KNN"
   ]
  },
  {
   "cell_type": "code",
   "execution_count": 156,
   "id": "06822428",
   "metadata": {},
   "outputs": [],
   "source": [
    "#KNN Algorith\n",
    "#from sklearn.neighbors import KNeighborsClassifier\n",
    "#knn=KNeighborsClassifier(n_neighbors=5)"
   ]
  },
  {
   "cell_type": "code",
   "execution_count": 157,
   "id": "54625472",
   "metadata": {
    "scrolled": true
   },
   "outputs": [],
   "source": [
    "#knn.fit(X_train,y_train)\n",
    "#y_pred = knn.predict_proba(X_test)"
   ]
  },
  {
   "cell_type": "code",
   "execution_count": 158,
   "id": "e48d6d7b",
   "metadata": {},
   "outputs": [],
   "source": [
    "#score = knn.score(X_test, y_test)\n",
    "#score"
   ]
  },
  {
   "cell_type": "code",
   "execution_count": 159,
   "id": "2bcf1c8b",
   "metadata": {},
   "outputs": [],
   "source": [
    "##predict on TEST Data\n",
    "#y_pred = knn.predict_proba(model_df2)\n"
   ]
  },
  {
   "cell_type": "code",
   "execution_count": 160,
   "id": "79f6d66a",
   "metadata": {},
   "outputs": [],
   "source": [
    "#y_pred"
   ]
  },
  {
   "cell_type": "code",
   "execution_count": 161,
   "id": "3cb2e767",
   "metadata": {},
   "outputs": [],
   "source": [
    "#values of only class 1 \n",
    "#y_pred[:, 1]"
   ]
  },
  {
   "cell_type": "code",
   "execution_count": 162,
   "id": "6b5209eb",
   "metadata": {},
   "outputs": [],
   "source": [
    "#answers_knn14 = pd.DataFrame()\n",
    "#answers_knn14['id'] = df2['id']\n",
    "#answers_knn14['outcome'] = y_pred[:, 1]\n",
    "#answers_knn14.to_csv('knn14.csv', index=False)"
   ]
  },
  {
   "cell_type": "code",
   "execution_count": 163,
   "id": "4e55a3ae",
   "metadata": {},
   "outputs": [],
   "source": [
    "# 54% on kaggle  with k = 7"
   ]
  },
  {
   "cell_type": "markdown",
   "id": "270df954",
   "metadata": {},
   "source": [
    "#KNN ENDS"
   ]
  },
  {
   "cell_type": "code",
   "execution_count": null,
   "id": "e4eb6386",
   "metadata": {},
   "outputs": [],
   "source": []
  },
  {
   "cell_type": "code",
   "execution_count": 164,
   "id": "836657b0",
   "metadata": {},
   "outputs": [],
   "source": [
    "#Importing different models\n",
    "\n",
    "from sklearn.model_selection import GridSearchCV\n",
    "from sklearn.metrics import classification_report\n",
    "from sklearn.linear_model import LogisticRegression\n",
    "from sklearn.svm import LinearSVC\n",
    "from sklearn.neighbors import KNeighborsClassifier\n",
    "from sklearn.linear_model import Lasso\n",
    "from sklearn.linear_model import Ridge\n",
    "from sklearn.tree import DecisionTreeRegressor"
   ]
  },
  {
   "cell_type": "code",
   "execution_count": null,
   "id": "58d6a394",
   "metadata": {},
   "outputs": [],
   "source": []
  },
  {
   "cell_type": "markdown",
   "id": "09541a73",
   "metadata": {},
   "source": [
    "#LOG R STARTS"
   ]
  },
  {
   "cell_type": "code",
   "execution_count": 165,
   "id": "d88e88f2",
   "metadata": {},
   "outputs": [],
   "source": [
    "# Logistic Regression\n",
    "#logr = LogisticRegression(random_state=0)\n",
    "#param_grid_logreg = {'C': np.logspace(-4, 4, 20),\n",
    " #                    'penalty' : ['l1', 'l2']}\n",
    "#logr_cv = GridSearchCV(logr, param_grid_logreg)\n",
    "\n",
    "\n",
    "\n",
    "#logr_cv.fit(X_train, y_train.values.ravel())\n",
    "#print('Logistic Regression')\n",
    "#print(\"tuned hpyerparameters :(best parameters) \", logr_cv.best_params_)\n",
    "#print(\"best score of training set :\", round(logr_cv.best_score_, 3))\n"
   ]
  },
  {
   "cell_type": "code",
   "execution_count": 166,
   "id": "d2895aad",
   "metadata": {},
   "outputs": [],
   "source": [
    "#score = logr_cv.score(X_test, y_test)\n",
    "#score"
   ]
  },
  {
   "cell_type": "code",
   "execution_count": 167,
   "id": "22914fe1",
   "metadata": {},
   "outputs": [],
   "source": [
    "#Predict on TEST Data\n",
    "#y_pred_logr = logr_cv.predict(model_df2)"
   ]
  },
  {
   "cell_type": "code",
   "execution_count": 168,
   "id": "97586e38",
   "metadata": {},
   "outputs": [],
   "source": [
    "#y_pred_logr"
   ]
  },
  {
   "cell_type": "code",
   "execution_count": null,
   "id": "fab4080f",
   "metadata": {},
   "outputs": [],
   "source": []
  },
  {
   "cell_type": "code",
   "execution_count": 169,
   "id": "f97893f1",
   "metadata": {},
   "outputs": [],
   "source": [
    "#writing answers to a new file\n",
    "#answers_logr_smote = pd.DataFrame()\n",
    "#answers_logr_smote['id'] = df_copy['id']\n",
    "#answers_logr_smote['outcome'] = y_pred_logr[:, 1]\n",
    "#answers_logr_smote.to_csv('logr.csv', index=False)"
   ]
  },
  {
   "cell_type": "code",
   "execution_count": 170,
   "id": "280aff48",
   "metadata": {},
   "outputs": [],
   "source": [
    "# 49 % on kaggle (with and wihtout smote)"
   ]
  },
  {
   "cell_type": "markdown",
   "id": "f84c2af8",
   "metadata": {},
   "source": [
    "# LOG R ENDS"
   ]
  },
  {
   "cell_type": "code",
   "execution_count": null,
   "id": "bfdc4f47",
   "metadata": {},
   "outputs": [],
   "source": []
  },
  {
   "cell_type": "markdown",
   "id": "9824471f",
   "metadata": {},
   "source": [
    "#SVM STARTS"
   ]
  },
  {
   "cell_type": "code",
   "execution_count": 171,
   "id": "9e833df1",
   "metadata": {},
   "outputs": [],
   "source": [
    "#SVM\n",
    "#from sklearn import svm as classifier\n",
    "#model_SVM = classifier.SVC(probability=True)\n",
    "#model_SVM.fit(X_train, y_train)\n",
    "#y_pred_SVM = model_SVM.predict(X_test)"
   ]
  },
  {
   "cell_type": "code",
   "execution_count": 172,
   "id": "30e3a8c8",
   "metadata": {},
   "outputs": [],
   "source": [
    "#y_pred_SVM = model_SVM.predict_proba(model_df2)"
   ]
  },
  {
   "cell_type": "code",
   "execution_count": 173,
   "id": "58e28aa5",
   "metadata": {},
   "outputs": [],
   "source": [
    "#score = model_SVM.score(X_test, y_test)\n",
    "#score"
   ]
  },
  {
   "cell_type": "code",
   "execution_count": 174,
   "id": "c9bb2df0",
   "metadata": {},
   "outputs": [],
   "source": [
    "#writing answers to a new file\n",
    "#answers_SVM_SMOTE = pd.DataFrame()\n",
    "#answers_SVM_SMOTE['id'] = df_copy['id']\n",
    "#answers_SVM_SMOTE['outcome'] = y_pred_SVM[:, 1]\n",
    "#answers_SVM_SMOTE.to_csv('answers_SVM_SMOTE.csv', index=False)"
   ]
  },
  {
   "cell_type": "code",
   "execution_count": 175,
   "id": "4212514f",
   "metadata": {},
   "outputs": [],
   "source": [
    "#51 % ON KAGGLE WITH SMOTE"
   ]
  },
  {
   "cell_type": "markdown",
   "id": "89874242",
   "metadata": {},
   "source": [
    "#SVM ENDS"
   ]
  },
  {
   "cell_type": "code",
   "execution_count": null,
   "id": "116edeba",
   "metadata": {},
   "outputs": [],
   "source": []
  },
  {
   "cell_type": "code",
   "execution_count": 176,
   "id": "5d7b0e40",
   "metadata": {},
   "outputs": [],
   "source": [
    "#Decision Tree starts"
   ]
  },
  {
   "cell_type": "code",
   "execution_count": 177,
   "id": "44f131c5",
   "metadata": {},
   "outputs": [],
   "source": [
    "from sklearn import tree\n",
    "\n",
    "# Building Decision Tree model \n",
    "#dtc = tree.DecisionTreeClassifier(random_state=0)\n",
    "#dtc.fit(X_train, y_train)"
   ]
  },
  {
   "cell_type": "code",
   "execution_count": 178,
   "id": "517c89b6",
   "metadata": {},
   "outputs": [],
   "source": [
    "#score = dtc.score(X_test, y_test)\n",
    "#score"
   ]
  },
  {
   "cell_type": "code",
   "execution_count": 179,
   "id": "4e5138be",
   "metadata": {},
   "outputs": [],
   "source": [
    "#y_pred4 = dtc.predict_proba(model_df2)"
   ]
  },
  {
   "cell_type": "code",
   "execution_count": 180,
   "id": "aea1f3a2",
   "metadata": {},
   "outputs": [],
   "source": [
    "#y_pred4\n"
   ]
  },
  {
   "cell_type": "code",
   "execution_count": 181,
   "id": "342f89a9",
   "metadata": {},
   "outputs": [],
   "source": [
    "#answers_TREE = pd.DataFrame()\n",
    "#answers_TREE['id'] = df2['id']\n",
    "#answers_TREE['outcome'] = y_pred4[:, 1]\n",
    "#answers_TREE.to_csv('TREE.csv', index=False)"
   ]
  },
  {
   "cell_type": "code",
   "execution_count": 182,
   "id": "0895e54d",
   "metadata": {},
   "outputs": [],
   "source": [
    "#Decision tree ends"
   ]
  },
  {
   "cell_type": "code",
   "execution_count": null,
   "id": "2e97e739",
   "metadata": {},
   "outputs": [],
   "source": []
  },
  {
   "cell_type": "markdown",
   "id": "022054a8",
   "metadata": {},
   "source": [
    "# RANDOM FOREST BEGINS"
   ]
  },
  {
   "cell_type": "code",
   "execution_count": 183,
   "id": "3db6177d",
   "metadata": {},
   "outputs": [
    {
     "data": {
      "text/plain": [
       "RandomForestClassifier(max_depth=3, random_state=0)"
      ]
     },
     "execution_count": 183,
     "metadata": {},
     "output_type": "execute_result"
    }
   ],
   "source": [
    "# Random forest\n",
    "from sklearn.ensemble import RandomForestClassifier\n",
    "\n",
    "# Building Random Forest model \n",
    "rf = RandomForestClassifier(random_state=0,max_depth=3)\n",
    "rf.fit(X_train, y_train)"
   ]
  },
  {
   "cell_type": "code",
   "execution_count": 184,
   "id": "c6981830",
   "metadata": {},
   "outputs": [
    {
     "data": {
      "text/plain": [
       "0.9020809248554913"
      ]
     },
     "execution_count": 184,
     "metadata": {},
     "output_type": "execute_result"
    }
   ],
   "source": [
    "score = rf.score(X_test, y_test)\n",
    "score"
   ]
  },
  {
   "cell_type": "code",
   "execution_count": 185,
   "id": "9ee21100",
   "metadata": {},
   "outputs": [
    {
     "data": {
      "text/plain": [
       "0.8985184084039443"
      ]
     },
     "execution_count": 185,
     "metadata": {},
     "output_type": "execute_result"
    }
   ],
   "source": [
    "score = rf.score(X_train, y_train)\n",
    "score"
   ]
  },
  {
   "cell_type": "code",
   "execution_count": 186,
   "id": "f75f7d39",
   "metadata": {},
   "outputs": [
    {
     "data": {
      "text/plain": [
       "array([[0.94390505, 0.05609495],\n",
       "       [0.94422588, 0.05577412],\n",
       "       [0.94422588, 0.05577412],\n",
       "       ...,\n",
       "       [0.52761443, 0.47238557],\n",
       "       [0.38731628, 0.61268372],\n",
       "       [0.68590145, 0.31409855]])"
      ]
     },
     "execution_count": 186,
     "metadata": {},
     "output_type": "execute_result"
    }
   ],
   "source": [
    "y_pred5 = rf.predict_proba(model_df2)\n",
    "y_pred5\n"
   ]
  },
  {
   "cell_type": "code",
   "execution_count": 187,
   "id": "6ac18690",
   "metadata": {},
   "outputs": [],
   "source": [
    "from sklearn.metrics import roc_curve, auc"
   ]
  },
  {
   "cell_type": "code",
   "execution_count": 188,
   "id": "590e1a21",
   "metadata": {},
   "outputs": [
    {
     "data": {
      "image/png": "[encoded data removed]",
      "text/plain": [
       "<Figure size 640x480 with 1 Axes>"
      ]
     },
     "metadata": {},
     "output_type": "display_data"
    }
   ],
   "source": [
    "score_Y_dt = rf.predict_proba(X_test)\n",
    "fpr, tpr, _ = roc_curve(y_test, score_Y_dt[:,1])\n",
    "roc_auc = auc(fpr, tpr)\n",
    "\n",
    "plt.figure()\n",
    "lw = 2\n",
    "plt.plot(fpr, tpr, color='darkorange',lw=lw, label='ROC curve (area = %0.2f)' % roc_auc)\n",
    "plt.plot([0, 1], [0, 1], color='navy', lw=lw, linestyle='--')\n",
    "plt.xlim([0.0, 1.0])\n",
    "plt.ylim([0.0, 1.05])\n",
    "plt.xlabel('False Positive Rate')\n",
    "plt.ylabel('True Positive Rate')\n",
    "plt.title('Receiver operating characteristic example')\n",
    "plt.legend(loc=\"lower right\")\n",
    "plt.show()"
   ]
  },
  {
   "cell_type": "code",
   "execution_count": null,
   "id": "8d87ff5e",
   "metadata": {},
   "outputs": [],
   "source": []
  },
  {
   "cell_type": "code",
   "execution_count": 189,
   "id": "09774b59",
   "metadata": {},
   "outputs": [],
   "source": [
    "Team9Sub2 = pd.DataFrame()\n",
    "Team9Sub2['id'] = df_copy['id']\n",
    "Team9Sub2['outcome'] = y_pred5[:, 1]\n",
    "Team9Sub2.to_csv('Team9Sub2.csv', index=False)"
   ]
  },
  {
   "cell_type": "code",
   "execution_count": 190,
   "id": "6e79257d",
   "metadata": {},
   "outputs": [],
   "source": [
    "#78 % on kaggle (WITH AND WITHOUT SMOTE)"
   ]
  },
  {
   "cell_type": "code",
   "execution_count": null,
   "id": "b203a293",
   "metadata": {},
   "outputs": [],
   "source": []
  },
  {
   "cell_type": "code",
   "execution_count": 191,
   "id": "b40746b6",
   "metadata": {},
   "outputs": [],
   "source": [
    "# Naive Bayes\n",
    "\n",
    "#from sklearn.naive_bayes import GaussianNB\n",
    "\n",
    "# Building Naive Bayes model \n",
    "#nb = GaussianNB()\n",
    "#nb.fit(X_train, y_train)"
   ]
  },
  {
   "cell_type": "code",
   "execution_count": 192,
   "id": "41603f5f",
   "metadata": {},
   "outputs": [],
   "source": [
    "#score = nb.score(X_test, y_test)\n",
    "#score"
   ]
  },
  {
   "cell_type": "code",
   "execution_count": 193,
   "id": "2b4da56f",
   "metadata": {},
   "outputs": [
    {
     "name": "stdout",
     "output_type": "stream",
     "text": [
      "Fitting 3 folds for each of 60 candidates, totalling 180 fits\n"
     ]
    },
    {
     "data": {
      "text/plain": [
       "{'max_depth': 20, 'min_samples_leaf': 4, 'n_estimators': 100}"
      ]
     },
     "execution_count": 193,
     "metadata": {},
     "output_type": "execute_result"
    }
   ],
   "source": [
    "#Improving randomforest\n",
    "from sklearn.model_selection import GridSearchCV\n",
    "\n",
    "# Create the parameter grid based on the results of random search \n",
    "param_grid = {\n",
    "    'max_depth': [5,10,15,20 ],\n",
    "    'min_samples_leaf': [3, 4, 5],\n",
    "    'n_estimators': [100, 300, 500, 600, 800]\n",
    "}\n",
    "\n",
    "# Create a base model\n",
    "rf_grids = RandomForestClassifier(random_state=0)\n",
    "\n",
    "# Initiate the grid search model\n",
    "grid_search = GridSearchCV(estimator=rf_grids, param_grid=param_grid, scoring='recall',\n",
    "                           cv=3, n_jobs=-1, verbose=2)\n",
    "\n",
    "# Fit the grid search to the data\n",
    "grid_search.fit(X_train, y_train)\n",
    "\n",
    "grid_search.best_params_"
   ]
  },
  {
   "cell_type": "code",
   "execution_count": null,
   "id": "7a6fdf52",
   "metadata": {},
   "outputs": [],
   "source": []
  }
 ],
 "metadata": {
  "kernelspec": {
   "display_name": "Python 3 (ipykernel)",
   "language": "python",
   "name": "python3"
  },
  "language_info": {
   "codemirror_mode": {
    "name": "ipython",
    "version": 3
   },
   "file_extension": ".py",
   "mimetype": "text/x-python",
   "name": "python",
   "nbconvert_exporter": "python",
   "pygments_lexer": "ipython3",
   "version": "3.9.13"
  }
 },
 "nbformat": 4,
 "nbformat_minor": 5
}
